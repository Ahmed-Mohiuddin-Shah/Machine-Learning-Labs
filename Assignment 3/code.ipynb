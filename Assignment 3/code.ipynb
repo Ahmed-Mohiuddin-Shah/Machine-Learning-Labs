{
 "cells": [
  {
   "cell_type": "markdown",
   "metadata": {},
   "source": [
    "# Name: Ahmed Mohiuddin Shah\n",
    "# CMS ID: 415216\n",
    "# Section: BSCS-12-A\n",
    "# Assignment: 3\n",
    "# Subject: Machine Learning\n",
    "# Submitted to: Dr. Muhammad Moazam Fraz"
   ]
  }
 ],
 "metadata": {
  "language_info": {
   "name": "python"
  }
 },
 "nbformat": 4,
 "nbformat_minor": 2
}
