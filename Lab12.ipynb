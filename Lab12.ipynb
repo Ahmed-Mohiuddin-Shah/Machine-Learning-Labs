{
 "cells": [
  {
   "cell_type": "markdown",
   "metadata": {},
   "source": [
    "### Name: Ahmed Mohiuddin Shah\n",
    "### CMS ID: 415216\n",
    "### Section: BSCS-12-A\n",
    "### Lab: 12"
   ]
  },
  {
   "cell_type": "markdown",
   "metadata": {},
   "source": [
    "# PreLab"
   ]
  },
  {
   "cell_type": "markdown",
   "metadata": {},
   "source": [
    "## Creating Virtual Environment"
   ]
  },
  {
   "cell_type": "markdown",
   "metadata": {},
   "source": [
    "- I am using my own local python notebooks and for that I am using a conda virtual environment.\n",
    "- I have made my conda environment at the start of the semester and I have been using it for all my labs.\n",
    "- It is insde the .conda folder\n",
    "- To activate it in the terminal, I use the `conda activate <absolute path>/.conda` command.\n",
    "\n",
    "![activate-env](screenshots/activate-env.png \"activate-env\")\n",
    "\n",
    "- I use VsCode to run my python notebooks and i select the kernel to use the .conda environment in the .conda folder.\n",
    "\n",
    "![kernel-selection](screenshots/kernel-selection.png \"kernel-selection\")"
   ]
  },
  {
   "cell_type": "markdown",
   "metadata": {},
   "source": [
    "## Installing Required Libraries"
   ]
  },
  {
   "cell_type": "code",
   "execution_count": 28,
   "metadata": {},
   "outputs": [
    {
     "name": "stdout",
     "output_type": "stream",
     "text": [
      "Requirement already satisfied: dvc in c:\\users\\ahmed mohiuddin shah\\documents\\machine learning labs\\.conda\\lib\\site-packages (3.58.0)\n",
      "Requirement already satisfied: attrs>=22.2.0 in c:\\users\\ahmed mohiuddin shah\\documents\\machine learning labs\\.conda\\lib\\site-packages (from dvc) (24.2.0)\n",
      "Requirement already satisfied: celery in c:\\users\\ahmed mohiuddin shah\\documents\\machine learning labs\\.conda\\lib\\site-packages (from dvc) (5.4.0)\n",
      "Requirement already satisfied: colorama>=0.3.9 in c:\\users\\ahmed mohiuddin shah\\documents\\machine learning labs\\.conda\\lib\\site-packages (from dvc) (0.4.6)\n",
      "Requirement already satisfied: configobj>=5.0.9 in c:\\users\\ahmed mohiuddin shah\\documents\\machine learning labs\\.conda\\lib\\site-packages (from dvc) (5.0.9)\n",
      "Requirement already satisfied: distro>=1.3 in c:\\users\\ahmed mohiuddin shah\\documents\\machine learning labs\\.conda\\lib\\site-packages (from dvc) (1.9.0)\n",
      "Requirement already satisfied: dpath<3,>=2.1.0 in c:\\users\\ahmed mohiuddin shah\\documents\\machine learning labs\\.conda\\lib\\site-packages (from dvc) (2.2.0)\n",
      "Requirement already satisfied: dulwich in c:\\users\\ahmed mohiuddin shah\\documents\\machine learning labs\\.conda\\lib\\site-packages (from dvc) (0.22.6)\n",
      "Requirement already satisfied: dvc-data<3.17,>=3.16.2 in c:\\users\\ahmed mohiuddin shah\\documents\\machine learning labs\\.conda\\lib\\site-packages (from dvc) (3.16.7)\n",
      "Requirement already satisfied: dvc-http>=2.29.0 in c:\\users\\ahmed mohiuddin shah\\documents\\machine learning labs\\.conda\\lib\\site-packages (from dvc) (2.32.0)\n",
      "Requirement already satisfied: dvc-objects in c:\\users\\ahmed mohiuddin shah\\documents\\machine learning labs\\.conda\\lib\\site-packages (from dvc) (5.1.0)\n",
      "Requirement already satisfied: dvc-render<2,>=1.0.1 in c:\\users\\ahmed mohiuddin shah\\documents\\machine learning labs\\.conda\\lib\\site-packages (from dvc) (1.0.2)\n",
      "Requirement already satisfied: dvc-studio-client<1,>=0.21 in c:\\users\\ahmed mohiuddin shah\\documents\\machine learning labs\\.conda\\lib\\site-packages (from dvc) (0.21.0)\n",
      "Requirement already satisfied: dvc-task<1,>=0.3.0 in c:\\users\\ahmed mohiuddin shah\\documents\\machine learning labs\\.conda\\lib\\site-packages (from dvc) (0.40.2)\n",
      "Requirement already satisfied: flatten_dict<1,>=0.4.1 in c:\\users\\ahmed mohiuddin shah\\documents\\machine learning labs\\.conda\\lib\\site-packages (from dvc) (0.4.2)\n",
      "Requirement already satisfied: flufl.lock<9,>=8.1.0 in c:\\users\\ahmed mohiuddin shah\\documents\\machine learning labs\\.conda\\lib\\site-packages (from dvc) (8.1.0)\n",
      "Requirement already satisfied: fsspec>=2024.2.0 in c:\\users\\ahmed mohiuddin shah\\documents\\machine learning labs\\.conda\\lib\\site-packages (from dvc) (2024.10.0)\n",
      "Requirement already satisfied: funcy>=1.14 in c:\\users\\ahmed mohiuddin shah\\documents\\machine learning labs\\.conda\\lib\\site-packages (from dvc) (2.0)\n",
      "Requirement already satisfied: grandalf<1,>=0.7 in c:\\users\\ahmed mohiuddin shah\\documents\\machine learning labs\\.conda\\lib\\site-packages (from dvc) (0.8)\n",
      "Requirement already satisfied: gto<2,>=1.6.0 in c:\\users\\ahmed mohiuddin shah\\documents\\machine learning labs\\.conda\\lib\\site-packages (from dvc) (1.7.2)\n",
      "Requirement already satisfied: hydra-core>=1.1 in c:\\users\\ahmed mohiuddin shah\\documents\\machine learning labs\\.conda\\lib\\site-packages (from dvc) (1.3.2)\n",
      "Requirement already satisfied: iterative-telemetry>=0.0.7 in c:\\users\\ahmed mohiuddin shah\\documents\\machine learning labs\\.conda\\lib\\site-packages (from dvc) (0.0.9)\n",
      "Requirement already satisfied: kombu in c:\\users\\ahmed mohiuddin shah\\documents\\machine learning labs\\.conda\\lib\\site-packages (from dvc) (5.4.2)\n",
      "Requirement already satisfied: networkx>=2.5 in c:\\users\\ahmed mohiuddin shah\\documents\\machine learning labs\\.conda\\lib\\site-packages (from dvc) (3.4.2)\n",
      "Requirement already satisfied: omegaconf in c:\\users\\ahmed mohiuddin shah\\documents\\machine learning labs\\.conda\\lib\\site-packages (from dvc) (2.3.0)\n",
      "Requirement already satisfied: packaging>=19 in c:\\users\\ahmed mohiuddin shah\\documents\\machine learning labs\\.conda\\lib\\site-packages (from dvc) (24.1)\n",
      "Requirement already satisfied: pathspec>=0.10.3 in c:\\users\\ahmed mohiuddin shah\\documents\\machine learning labs\\.conda\\lib\\site-packages (from dvc) (0.12.1)\n",
      "Requirement already satisfied: platformdirs<5,>=3.1.1 in c:\\users\\ahmed mohiuddin shah\\documents\\machine learning labs\\.conda\\lib\\site-packages (from dvc) (3.10.0)\n",
      "Requirement already satisfied: psutil>=5.8 in c:\\users\\ahmed mohiuddin shah\\documents\\machine learning labs\\.conda\\lib\\site-packages (from dvc) (5.9.0)\n",
      "Requirement already satisfied: pydot>=1.2.4 in c:\\users\\ahmed mohiuddin shah\\documents\\machine learning labs\\.conda\\lib\\site-packages (from dvc) (3.0.3)\n",
      "Requirement already satisfied: pygtrie>=2.3.2 in c:\\users\\ahmed mohiuddin shah\\documents\\machine learning labs\\.conda\\lib\\site-packages (from dvc) (2.5.0)\n",
      "Requirement already satisfied: pyparsing>=2.4.7 in c:\\users\\ahmed mohiuddin shah\\documents\\machine learning labs\\.conda\\lib\\site-packages (from dvc) (3.1.4)\n",
      "Requirement already satisfied: requests>=2.22 in c:\\users\\ahmed mohiuddin shah\\documents\\machine learning labs\\.conda\\lib\\site-packages (from dvc) (2.32.3)\n",
      "Requirement already satisfied: rich>=12 in c:\\users\\ahmed mohiuddin shah\\documents\\machine learning labs\\.conda\\lib\\site-packages (from dvc) (13.9.4)\n",
      "Requirement already satisfied: ruamel.yaml>=0.17.11 in c:\\users\\ahmed mohiuddin shah\\documents\\machine learning labs\\.conda\\lib\\site-packages (from dvc) (0.18.6)\n",
      "Requirement already satisfied: scmrepo<4,>=3.3.8 in c:\\users\\ahmed mohiuddin shah\\documents\\machine learning labs\\.conda\\lib\\site-packages (from dvc) (3.3.9)\n",
      "Requirement already satisfied: shortuuid>=0.5 in c:\\users\\ahmed mohiuddin shah\\documents\\machine learning labs\\.conda\\lib\\site-packages (from dvc) (1.0.13)\n",
      "Requirement already satisfied: shtab<2,>=1.3.4 in c:\\users\\ahmed mohiuddin shah\\documents\\machine learning labs\\.conda\\lib\\site-packages (from dvc) (1.7.1)\n",
      "Requirement already satisfied: tabulate>=0.8.7 in c:\\users\\ahmed mohiuddin shah\\documents\\machine learning labs\\.conda\\lib\\site-packages (from dvc) (0.9.0)\n",
      "Requirement already satisfied: tomlkit>=0.11.1 in c:\\users\\ahmed mohiuddin shah\\documents\\machine learning labs\\.conda\\lib\\site-packages (from dvc) (0.13.2)\n",
      "Requirement already satisfied: tqdm<5,>=4.63.1 in c:\\users\\ahmed mohiuddin shah\\documents\\machine learning labs\\.conda\\lib\\site-packages (from dvc) (4.66.5)\n",
      "Requirement already satisfied: voluptuous>=0.11.7 in c:\\users\\ahmed mohiuddin shah\\documents\\machine learning labs\\.conda\\lib\\site-packages (from dvc) (0.15.2)\n",
      "Requirement already satisfied: zc.lockfile>=1.2.1 in c:\\users\\ahmed mohiuddin shah\\documents\\machine learning labs\\.conda\\lib\\site-packages (from dvc) (3.0.post1)\n",
      "Requirement already satisfied: dictdiffer>=0.8.1 in c:\\users\\ahmed mohiuddin shah\\documents\\machine learning labs\\.conda\\lib\\site-packages (from dvc-data<3.17,>=3.16.2->dvc) (0.9.0)\n",
      "Requirement already satisfied: diskcache>=5.2.1 in c:\\users\\ahmed mohiuddin shah\\documents\\machine learning labs\\.conda\\lib\\site-packages (from dvc-data<3.17,>=3.16.2->dvc) (5.6.3)\n",
      "Requirement already satisfied: sqltrie<1,>=0.11.0 in c:\\users\\ahmed mohiuddin shah\\documents\\machine learning labs\\.conda\\lib\\site-packages (from dvc-data<3.17,>=3.16.2->dvc) (0.11.1)\n",
      "Requirement already satisfied: orjson<4,>=3 in c:\\users\\ahmed mohiuddin shah\\documents\\machine learning labs\\.conda\\lib\\site-packages (from dvc-data<3.17,>=3.16.2->dvc) (3.10.12)\n",
      "Requirement already satisfied: aiohttp-retry>=2.5.0 in c:\\users\\ahmed mohiuddin shah\\documents\\machine learning labs\\.conda\\lib\\site-packages (from dvc-http>=2.29.0->dvc) (2.9.1)\n",
      "Requirement already satisfied: pywin32>=225 in c:\\users\\ahmed mohiuddin shah\\documents\\machine learning labs\\.conda\\lib\\site-packages (from dvc-task<1,>=0.3.0->dvc) (305.1)\n",
      "Requirement already satisfied: billiard<5.0,>=4.2.0 in c:\\users\\ahmed mohiuddin shah\\documents\\machine learning labs\\.conda\\lib\\site-packages (from celery->dvc) (4.2.1)\n",
      "Requirement already satisfied: vine<6.0,>=5.1.0 in c:\\users\\ahmed mohiuddin shah\\documents\\machine learning labs\\.conda\\lib\\site-packages (from celery->dvc) (5.1.0)\n",
      "Requirement already satisfied: click<9.0,>=8.1.2 in c:\\users\\ahmed mohiuddin shah\\documents\\machine learning labs\\.conda\\lib\\site-packages (from celery->dvc) (8.1.7)\n",
      "Requirement already satisfied: click-didyoumean>=0.3.0 in c:\\users\\ahmed mohiuddin shah\\documents\\machine learning labs\\.conda\\lib\\site-packages (from celery->dvc) (0.3.1)\n",
      "Requirement already satisfied: click-repl>=0.2.0 in c:\\users\\ahmed mohiuddin shah\\documents\\machine learning labs\\.conda\\lib\\site-packages (from celery->dvc) (0.3.0)\n",
      "Requirement already satisfied: click-plugins>=1.1.1 in c:\\users\\ahmed mohiuddin shah\\documents\\machine learning labs\\.conda\\lib\\site-packages (from celery->dvc) (1.1.1)\n",
      "Requirement already satisfied: tzdata>=2022.7 in c:\\users\\ahmed mohiuddin shah\\documents\\machine learning labs\\.conda\\lib\\site-packages (from celery->dvc) (2024.2)\n",
      "Requirement already satisfied: python-dateutil>=2.8.2 in c:\\users\\ahmed mohiuddin shah\\documents\\machine learning labs\\.conda\\lib\\site-packages (from celery->dvc) (2.9.0.post0)\n",
      "Requirement already satisfied: six<2.0,>=1.12 in c:\\users\\ahmed mohiuddin shah\\documents\\machine learning labs\\.conda\\lib\\site-packages (from flatten_dict<1,>=0.4.1->dvc) (1.16.0)\n",
      "Requirement already satisfied: atpublic in c:\\users\\ahmed mohiuddin shah\\documents\\machine learning labs\\.conda\\lib\\site-packages (from flufl.lock<9,>=8.1.0->dvc) (5.0)\n",
      "Requirement already satisfied: entrypoints in c:\\users\\ahmed mohiuddin shah\\documents\\machine learning labs\\.conda\\lib\\site-packages (from gto<2,>=1.6.0->dvc) (0.4)\n",
      "Requirement already satisfied: pydantic!=2.0.0,<3,>=1.9.0 in c:\\users\\ahmed mohiuddin shah\\documents\\machine learning labs\\.conda\\lib\\site-packages (from gto<2,>=1.6.0->dvc) (2.10.3)\n",
      "Requirement already satisfied: semver>=2.13.0 in c:\\users\\ahmed mohiuddin shah\\documents\\machine learning labs\\.conda\\lib\\site-packages (from gto<2,>=1.6.0->dvc) (3.0.2)\n",
      "Requirement already satisfied: typer>=0.4.1 in c:\\users\\ahmed mohiuddin shah\\documents\\machine learning labs\\.conda\\lib\\site-packages (from gto<2,>=1.6.0->dvc) (0.15.1)\n",
      "Requirement already satisfied: antlr4-python3-runtime==4.9.* in c:\\users\\ahmed mohiuddin shah\\documents\\machine learning labs\\.conda\\lib\\site-packages (from hydra-core>=1.1->dvc) (4.9.3)\n",
      "Requirement already satisfied: appdirs in c:\\users\\ahmed mohiuddin shah\\documents\\machine learning labs\\.conda\\lib\\site-packages (from iterative-telemetry>=0.0.7->dvc) (1.4.4)\n",
      "Requirement already satisfied: filelock in c:\\users\\ahmed mohiuddin shah\\documents\\machine learning labs\\.conda\\lib\\site-packages (from iterative-telemetry>=0.0.7->dvc) (3.16.1)\n",
      "Requirement already satisfied: amqp<6.0.0,>=5.1.1 in c:\\users\\ahmed mohiuddin shah\\documents\\machine learning labs\\.conda\\lib\\site-packages (from kombu->dvc) (5.3.1)\n",
      "Requirement already satisfied: PyYAML>=5.1.0 in c:\\users\\ahmed mohiuddin shah\\documents\\machine learning labs\\.conda\\lib\\site-packages (from omegaconf->dvc) (6.0.2)\n",
      "Requirement already satisfied: charset-normalizer<4,>=2 in c:\\users\\ahmed mohiuddin shah\\documents\\machine learning labs\\.conda\\lib\\site-packages (from requests>=2.22->dvc) (3.3.2)\n",
      "Requirement already satisfied: idna<4,>=2.5 in c:\\users\\ahmed mohiuddin shah\\documents\\machine learning labs\\.conda\\lib\\site-packages (from requests>=2.22->dvc) (3.10)\n",
      "Requirement already satisfied: urllib3<3,>=1.21.1 in c:\\users\\ahmed mohiuddin shah\\documents\\machine learning labs\\.conda\\lib\\site-packages (from requests>=2.22->dvc) (2.2.3)\n",
      "Requirement already satisfied: certifi>=2017.4.17 in c:\\users\\ahmed mohiuddin shah\\documents\\machine learning labs\\.conda\\lib\\site-packages (from requests>=2.22->dvc) (2024.8.30)\n",
      "Requirement already satisfied: markdown-it-py>=2.2.0 in c:\\users\\ahmed mohiuddin shah\\documents\\machine learning labs\\.conda\\lib\\site-packages (from rich>=12->dvc) (3.0.0)\n",
      "Requirement already satisfied: pygments<3.0.0,>=2.13.0 in c:\\users\\ahmed mohiuddin shah\\documents\\machine learning labs\\.conda\\lib\\site-packages (from rich>=12->dvc) (2.15.1)\n",
      "Requirement already satisfied: typing-extensions<5.0,>=4.0.0 in c:\\users\\ahmed mohiuddin shah\\documents\\machine learning labs\\.conda\\lib\\site-packages (from rich>=12->dvc) (4.12.2)\n",
      "Requirement already satisfied: ruamel.yaml.clib>=0.2.7 in c:\\users\\ahmed mohiuddin shah\\documents\\machine learning labs\\.conda\\lib\\site-packages (from ruamel.yaml>=0.17.11->dvc) (0.2.12)\n",
      "Requirement already satisfied: gitpython>3 in c:\\users\\ahmed mohiuddin shah\\documents\\machine learning labs\\.conda\\lib\\site-packages (from scmrepo<4,>=3.3.8->dvc) (3.1.43)\n",
      "Requirement already satisfied: pygit2>=1.14.0 in c:\\users\\ahmed mohiuddin shah\\documents\\machine learning labs\\.conda\\lib\\site-packages (from scmrepo<4,>=3.3.8->dvc) (1.16.0)\n",
      "Requirement already satisfied: asyncssh<3,>=2.13.1 in c:\\users\\ahmed mohiuddin shah\\documents\\machine learning labs\\.conda\\lib\\site-packages (from scmrepo<4,>=3.3.8->dvc) (2.18.0)\n",
      "Requirement already satisfied: setuptools in c:\\users\\ahmed mohiuddin shah\\documents\\machine learning labs\\.conda\\lib\\site-packages (from zc.lockfile>=1.2.1->dvc) (75.1.0)\n",
      "Requirement already satisfied: aiohttp in c:\\users\\ahmed mohiuddin shah\\documents\\machine learning labs\\.conda\\lib\\site-packages (from aiohttp-retry>=2.5.0->dvc-http>=2.29.0->dvc) (3.11.10)\n",
      "Requirement already satisfied: cryptography>=39.0 in c:\\users\\ahmed mohiuddin shah\\documents\\machine learning labs\\.conda\\lib\\site-packages (from asyncssh<3,>=2.13.1->scmrepo<4,>=3.3.8->dvc) (44.0.0)\n",
      "Requirement already satisfied: prompt-toolkit>=3.0.36 in c:\\users\\ahmed mohiuddin shah\\documents\\machine learning labs\\.conda\\lib\\site-packages (from click-repl>=0.2.0->celery->dvc) (3.0.43)\n",
      "Requirement already satisfied: gitdb<5,>=4.0.1 in c:\\users\\ahmed mohiuddin shah\\documents\\machine learning labs\\.conda\\lib\\site-packages (from gitpython>3->scmrepo<4,>=3.3.8->dvc) (4.0.11)\n",
      "Requirement already satisfied: mdurl~=0.1 in c:\\users\\ahmed mohiuddin shah\\documents\\machine learning labs\\.conda\\lib\\site-packages (from markdown-it-py>=2.2.0->rich>=12->dvc) (0.1.2)\n",
      "Requirement already satisfied: annotated-types>=0.6.0 in c:\\users\\ahmed mohiuddin shah\\documents\\machine learning labs\\.conda\\lib\\site-packages (from pydantic!=2.0.0,<3,>=1.9.0->gto<2,>=1.6.0->dvc) (0.7.0)\n",
      "Requirement already satisfied: pydantic-core==2.27.1 in c:\\users\\ahmed mohiuddin shah\\documents\\machine learning labs\\.conda\\lib\\site-packages (from pydantic!=2.0.0,<3,>=1.9.0->gto<2,>=1.6.0->dvc) (2.27.1)\n",
      "Requirement already satisfied: cffi>=1.17.0 in c:\\users\\ahmed mohiuddin shah\\documents\\machine learning labs\\.conda\\lib\\site-packages (from pygit2>=1.14.0->scmrepo<4,>=3.3.8->dvc) (1.17.1)\n",
      "Requirement already satisfied: shellingham>=1.3.0 in c:\\users\\ahmed mohiuddin shah\\documents\\machine learning labs\\.conda\\lib\\site-packages (from typer>=0.4.1->gto<2,>=1.6.0->dvc) (1.5.4)\n",
      "Requirement already satisfied: aiohappyeyeballs>=2.3.0 in c:\\users\\ahmed mohiuddin shah\\documents\\machine learning labs\\.conda\\lib\\site-packages (from aiohttp->aiohttp-retry>=2.5.0->dvc-http>=2.29.0->dvc) (2.4.4)\n",
      "Requirement already satisfied: aiosignal>=1.1.2 in c:\\users\\ahmed mohiuddin shah\\documents\\machine learning labs\\.conda\\lib\\site-packages (from aiohttp->aiohttp-retry>=2.5.0->dvc-http>=2.29.0->dvc) (1.3.1)\n",
      "Requirement already satisfied: async-timeout<6.0,>=4.0 in c:\\users\\ahmed mohiuddin shah\\documents\\machine learning labs\\.conda\\lib\\site-packages (from aiohttp->aiohttp-retry>=2.5.0->dvc-http>=2.29.0->dvc) (5.0.1)\n",
      "Requirement already satisfied: frozenlist>=1.1.1 in c:\\users\\ahmed mohiuddin shah\\documents\\machine learning labs\\.conda\\lib\\site-packages (from aiohttp->aiohttp-retry>=2.5.0->dvc-http>=2.29.0->dvc) (1.5.0)\n",
      "Requirement already satisfied: multidict<7.0,>=4.5 in c:\\users\\ahmed mohiuddin shah\\documents\\machine learning labs\\.conda\\lib\\site-packages (from aiohttp->aiohttp-retry>=2.5.0->dvc-http>=2.29.0->dvc) (6.1.0)\n",
      "Requirement already satisfied: propcache>=0.2.0 in c:\\users\\ahmed mohiuddin shah\\documents\\machine learning labs\\.conda\\lib\\site-packages (from aiohttp->aiohttp-retry>=2.5.0->dvc-http>=2.29.0->dvc) (0.2.1)\n",
      "Requirement already satisfied: yarl<2.0,>=1.17.0 in c:\\users\\ahmed mohiuddin shah\\documents\\machine learning labs\\.conda\\lib\\site-packages (from aiohttp->aiohttp-retry>=2.5.0->dvc-http>=2.29.0->dvc) (1.18.3)\n",
      "Requirement already satisfied: pycparser in c:\\users\\ahmed mohiuddin shah\\documents\\machine learning labs\\.conda\\lib\\site-packages (from cffi>=1.17.0->pygit2>=1.14.0->scmrepo<4,>=3.3.8->dvc) (2.22)\n",
      "Requirement already satisfied: smmap<6,>=3.0.1 in c:\\users\\ahmed mohiuddin shah\\documents\\machine learning labs\\.conda\\lib\\site-packages (from gitdb<5,>=4.0.1->gitpython>3->scmrepo<4,>=3.3.8->dvc) (5.0.1)\n",
      "Requirement already satisfied: wcwidth in c:\\users\\ahmed mohiuddin shah\\documents\\machine learning labs\\.conda\\lib\\site-packages (from prompt-toolkit>=3.0.36->click-repl>=0.2.0->celery->dvc) (0.2.5)\n",
      "Note: you may need to restart the kernel to use updated packages.\n"
     ]
    }
   ],
   "source": [
    "# %pip install numpy pandas scikit-learn dvc mlflow\n",
    "%pip install dvc"
   ]
  },
  {
   "cell_type": "markdown",
   "metadata": {},
   "source": [
    "### Listing Libraries"
   ]
  },
  {
   "cell_type": "code",
   "execution_count": 29,
   "metadata": {},
   "outputs": [
    {
     "name": "stdout",
     "output_type": "stream",
     "text": [
      "aiohappyeyeballs==2.4.4\n",
      "aiohttp==3.11.10\n",
      "aiohttp-retry==2.9.1\n",
      "aiosignal==1.3.1\n",
      "alembic==1.14.0\n",
      "amqp==5.3.1\n",
      "annotated-types==0.7.0\n",
      "antlr4-python3-runtime==4.9.3\n",
      "appdirs==1.4.4\n",
      "asttokens @ file:///opt/conda/conda-bld/asttokens_1646925590279/work\n",
      "async-timeout==5.0.1\n",
      "asyncssh==2.18.0\n",
      "atpublic==5.0\n",
      "attrs==24.2.0\n",
      "billiard==4.2.1\n",
      "bleach==6.1.0\n",
      "blinker==1.9.0\n",
      "cachetools==5.5.0\n",
      "celery==5.4.0\n",
      "certifi==2024.8.30\n",
      "cffi==1.17.1\n",
      "charset-normalizer==3.3.2\n",
      "click==8.1.7\n",
      "click-didyoumean==0.3.1\n",
      "click-plugins==1.1.1\n",
      "click-repl==0.3.0\n",
      "cloudpickle==3.1.0\n",
      "colorama @ file:///C:/b/abs_a9ozq0l032/croot/colorama_1672387194846/work\n",
      "comm @ file:///C:/b/abs_67a8058udb/croot/comm_1709322909844/work\n",
      "configobj==5.0.9\n",
      "contourpy==1.3.0\n",
      "cryptography==44.0.0\n",
      "cycler==0.12.1\n",
      "daal==2025.0.0\n",
      "databricks-sdk==0.38.0\n",
      "debugpy @ file:///C:/b/abs_c0y1fjipt2/croot/debugpy_1690906864587/work\n",
      "decorator @ file:///opt/conda/conda-bld/decorator_1643638310831/work\n",
      "Deprecated==1.2.15\n",
      "dictdiffer==0.9.0\n",
      "diskcache==5.6.3\n",
      "distro==1.9.0\n",
      "docker==7.1.0\n",
      "dpath==2.2.0\n",
      "dulwich==0.22.6\n",
      "dvc==3.58.0\n",
      "dvc-data==3.16.7\n",
      "dvc-http==2.32.0\n",
      "dvc-objects==5.1.0\n",
      "dvc-render==1.0.2\n",
      "dvc-studio-client==0.21.0\n",
      "dvc-task==0.40.2\n",
      "entrypoints==0.4\n",
      "exceptiongroup @ file:///C:/b/abs_c5h1o1_b5b/croot/exceptiongroup_1706031441653/work\n",
      "executing @ file:///opt/conda/conda-bld/executing_1646925071911/work\n",
      "filelock==3.16.1\n",
      "Flask==3.1.0\n",
      "flatten-dict==0.4.2\n",
      "flufl.lock==8.1.0\n",
      "fonttools==4.54.0\n",
      "frozenlist==1.5.0\n",
      "fsspec==2024.10.0\n",
      "funcy==2.0\n",
      "gitdb==4.0.11\n",
      "GitPython==3.1.43\n",
      "google-auth==2.36.0\n",
      "grandalf==0.8\n",
      "graphene==3.4.3\n",
      "graphql-core==3.2.5\n",
      "graphql-relay==3.2.0\n",
      "greenlet==3.1.1\n",
      "gto==1.7.2\n",
      "hdbscan==0.8.40\n",
      "hydra-core==1.3.2\n",
      "idna==3.10\n",
      "importlib_metadata==8.5.0\n",
      "ipykernel @ file:///C:/b/abs_c2u94kxcy6/croot/ipykernel_1705933907920/work\n",
      "ipython @ file:///C:/b/abs_53it5seiim/croot/ipython_1726064251844/work\n",
      "iterative-telemetry==0.0.9\n",
      "itsdangerous==2.2.0\n",
      "jedi @ file:///C:/b/abs_1b8kmj7rrm/croot/jedi_1721058359741/work\n",
      "Jinja2==3.1.4\n",
      "joblib==1.4.2\n",
      "jupyter_client @ file:///C:/b/abs_a6h3c8hfdq/croot/jupyter_client_1699455939372/work\n",
      "jupyter_core @ file:///C:/b/abs_beftpbuevw/croot/jupyter_core_1718818307097/work\n",
      "kaggle==1.6.17\n",
      "kagglehub==0.3.4\n",
      "kiwisolver==1.4.7\n",
      "kombu==5.4.2\n",
      "llvmlite==0.43.0\n",
      "Mako==1.3.8\n",
      "Markdown==3.7\n",
      "markdown-it-py==3.0.0\n",
      "MarkupSafe==3.0.2\n",
      "matplotlib==3.9.2\n",
      "matplotlib-inline @ file:///C:/ci/matplotlib-inline_1661934094726/work\n",
      "mdurl==0.1.2\n",
      "mlflow==2.18.0\n",
      "mlflow-skinny==2.18.0\n",
      "mlxtend==0.23.3\n",
      "multidict==6.1.0\n",
      "nest-asyncio @ file:///C:/b/abs_65d6lblmoi/croot/nest-asyncio_1708532721305/work\n",
      "networkx==3.4.2\n",
      "numba==0.60.0\n",
      "numpy==2.0.2\n",
      "omegaconf==2.3.0\n",
      "opencv-python==4.10.0.84\n",
      "opentelemetry-api==1.28.2\n",
      "opentelemetry-sdk==1.28.2\n",
      "opentelemetry-semantic-conventions==0.49b2\n",
      "orjson==3.10.12\n",
      "packaging @ file:///C:/b/abs_c3vlh0z4jw/croot/packaging_1720101866539/work\n",
      "pandas==2.2.3\n",
      "parso @ file:///opt/conda/conda-bld/parso_1641458642106/work\n",
      "pathspec==0.12.1\n",
      "pillow==10.4.0\n",
      "platformdirs @ file:///C:/b/abs_b6z_yqw_ii/croot/platformdirs_1692205479426/work\n",
      "prompt-toolkit @ file:///C:/b/abs_68uwr58ed1/croot/prompt-toolkit_1704404394082/work\n",
      "propcache==0.2.1\n",
      "protobuf==5.29.1\n",
      "psutil @ file:///C:/Windows/Temp/abs_b2c2fd7f-9fd5-4756-95ea-8aed74d0039flsd9qufz/croots/recipe/psutil_1656431277748/work\n",
      "pure-eval @ file:///opt/conda/conda-bld/pure_eval_1646925070566/work\n",
      "pyarrow==18.1.0\n",
      "pyasn1==0.6.1\n",
      "pyasn1_modules==0.4.1\n",
      "pycparser==2.22\n",
      "pydantic==2.10.3\n",
      "pydantic_core==2.27.1\n",
      "pydot==3.0.3\n",
      "pygit2==1.16.0\n",
      "Pygments @ file:///C:/b/abs_fay9dpq4n_/croot/pygments_1684279990574/work\n",
      "pygtrie==2.5.0\n",
      "pyparsing==3.1.4\n",
      "python-dateutil @ file:///C:/b/abs_3au_koqnbs/croot/python-dateutil_1716495777160/work\n",
      "python-slugify==8.0.4\n",
      "pytz==2024.2\n",
      "pywin32==305.1\n",
      "PyYAML==6.0.2\n",
      "pyzmq @ file:///C:/b/abs_89aq69t0up/croot/pyzmq_1705605705281/work\n",
      "requests==2.32.3\n",
      "rich==13.9.4\n",
      "rsa==4.9\n",
      "ruamel.yaml==0.18.6\n",
      "ruamel.yaml.clib==0.2.12\n",
      "scikit-learn==1.5.2\n",
      "scikit-learn-intelex==2025.0.0\n",
      "scipy==1.14.1\n",
      "scmrepo==3.3.9\n",
      "seaborn==0.13.2\n",
      "semver==3.0.2\n",
      "shap==0.46.0\n",
      "shellingham==1.5.4\n",
      "shortuuid==1.0.13\n",
      "shtab==1.7.1\n",
      "six @ file:///tmp/build/80754af9/six_1644875935023/work\n",
      "slicer==0.0.8\n",
      "smmap==5.0.1\n",
      "SQLAlchemy==2.0.36\n",
      "sqlparse==0.5.2\n",
      "sqltrie==0.11.1\n",
      "stack-data @ file:///opt/conda/conda-bld/stack_data_1646927590127/work\n",
      "tabulate==0.9.0\n",
      "tbb==2022.0.0\n",
      "tcmlib==1.2.0\n",
      "text-unidecode==1.3\n",
      "threadpoolctl==3.5.0\n",
      "tomlkit==0.13.2\n",
      "tornado @ file:///C:/b/abs_7bua0304mj/croot/tornado_1718740122405/work\n",
      "tqdm==4.66.5\n",
      "traitlets @ file:///C:/b/abs_bfsnoxl4pq/croot/traitlets_1718227069245/work\n",
      "typer==0.15.1\n",
      "typing_extensions==4.12.2\n",
      "tzdata==2024.2\n",
      "ucimlrepo==0.0.7\n",
      "urllib3==2.2.3\n",
      "vine==5.1.0\n",
      "voluptuous==0.15.2\n",
      "waitress==3.0.2\n",
      "wcwidth @ file:///Users/ktietz/demo/mc3/conda-bld/wcwidth_1629357192024/work\n",
      "webencodings==0.5.1\n",
      "Werkzeug==3.1.3\n",
      "wrapt==1.17.0\n",
      "yarl==1.18.3\n",
      "zc.lockfile==3.0.post1\n",
      "zipp==3.21.0\n",
      "Note: you may need to restart the kernel to use updated packages.\n"
     ]
    }
   ],
   "source": [
    "%pip freeze"
   ]
  },
  {
   "cell_type": "markdown",
   "metadata": {},
   "source": [
    "## Installing Git"
   ]
  },
  {
   "cell_type": "markdown",
   "metadata": {},
   "source": [
    "I am working on windows and I had already installed and setup git on my Laptop."
   ]
  },
  {
   "cell_type": "code",
   "execution_count": 3,
   "metadata": {},
   "outputs": [
    {
     "name": "stdout",
     "output_type": "stream",
     "text": [
      "usage: git [-v | --version] [-h | --help] [-C <path>] [-c <name>=<value>]\n",
      "           [--exec-path[=<path>]] [--html-path] [--man-path] [--info-path]\n",
      "           [-p | --paginate | -P | --no-pager] [--no-replace-objects] [--bare]\n",
      "           [--git-dir=<path>] [--work-tree=<path>] [--namespace=<name>]\n",
      "           [--config-env=<name>=<envvar>] <command> [<args>]\n",
      "\n",
      "These are common Git commands used in various situations:\n",
      "\n",
      "start a working area (see also: git help tutorial)\n",
      "   clone     Clone a repository into a new directory\n",
      "   init      Create an empty Git repository or reinitialize an existing one\n",
      "\n",
      "work on the current change (see also: git help everyday)\n",
      "   add       Add file contents to the index\n",
      "   mv        Move or rename a file, a directory, or a symlink\n",
      "   restore   Restore working tree files\n",
      "   rm        Remove files from the working tree and from the index\n",
      "\n",
      "examine the history and state (see also: git help revisions)\n",
      "   bisect    Use binary search to find the commit that introduced a bug\n",
      "   diff      Show changes between commits, commit and working tree, etc\n",
      "   grep      Print lines matching a pattern\n",
      "   log       Show commit logs\n",
      "   show      Show various types of objects\n",
      "   status    Show the working tree status\n",
      "\n",
      "grow, mark and tweak your common history\n",
      "   branch    List, create, or delete branches\n",
      "   commit    Record changes to the repository\n",
      "   merge     Join two or more development histories together\n",
      "   rebase    Reapply commits on top of another base tip\n",
      "   reset     Reset current HEAD to the specified state\n",
      "   switch    Switch branches\n",
      "   tag       Create, list, delete or verify a tag object signed with GPG\n",
      "\n",
      "collaborate (see also: git help workflows)\n",
      "   fetch     Download objects and refs from another repository\n",
      "   pull      Fetch from and integrate with another repository or a local branch\n",
      "   push      Update remote refs along with associated objects\n",
      "\n",
      "'git help -a' and 'git help -g' list available subcommands and some\n",
      "concept guides. See 'git help <command>' or 'git help <concept>'\n",
      "to read about a specific subcommand or concept.\n",
      "See 'git help git' for an overview of the system.\n"
     ]
    }
   ],
   "source": [
    "!git"
   ]
  },
  {
   "cell_type": "markdown",
   "metadata": {},
   "source": [
    "## Initializing Repo"
   ]
  },
  {
   "cell_type": "code",
   "execution_count": 1,
   "metadata": {},
   "outputs": [
    {
     "name": "stdout",
     "output_type": "stream",
     "text": [
      "Initialized empty Git repository in C:/Users/Ahmed Mohiuddin Shah/Documents/Machine Learning Labs/.git/\n",
      "[main (root-commit) 860d44f] Initial commit\n",
      " 220 files changed, 142487 insertions(+)\n",
      " create mode 100644 .gitignore\n",
      " create mode 100644 Assignment 1/Ahmed-Mohiuddin-Shah_415216.zip\n",
      " create mode 100644 Assignment 1/Assignment 1.pdf\n",
      " create mode 100644 Assignment 1/code.ipynb\n",
      " create mode 100644 Assignment 1/data_patient_dropout.csv\n",
      " create mode 100644 Assignment 1/updated_data.csv\n",
      " create mode 100644 Assignment 2/AhmedMohiuddinShah_415216.zip\n",
      " create mode 100644 Assignment 2/Assignment 2.pdf\n",
      " create mode 100644 Assignment 2/SVM_Assignment.py\n",
      " create mode 100644 Assignment 2/best_Theme_park_rbf_regression_svm_model.pkl\n",
      " create mode 100644 Assignment 2/best_rock_linear_svm_model.pkl\n",
      " create mode 100644 Assignment 2/best_rock_poly_svm_model.pkl\n",
      " create mode 100644 Assignment 2/best_rock_rbf_svm_model.pkl\n",
      " create mode 100644 Assignment 2/best_theme_park_linear_regression_svm_model.pkl\n",
      " create mode 100644 Assignment 2/code.ipynb\n",
      " create mode 100644 Assignment 2/modified_rock_classification_dataset_test.csv\n",
      " create mode 100644 Assignment 2/modified_rock_classification_dataset_train.csv\n",
      " create mode 100644 Assignment 2/modified_theme_park_visitor_count_dataset_test.csv\n",
      " create mode 100644 Assignment 2/modified_theme_park_visitor_count_dataset_train.csv\n",
      " create mode 100644 Assignment 2/rock_classification_dataset.csv\n",
      " create mode 100644 Assignment 2/theme_park_visitor_count_dataset.csv\n",
      " create mode 100644 Assignment 2/updated_data_classification.csv\n",
      " create mode 100644 Assignment 2/updated_data_regression.csv\n",
      " create mode 100644 Automobile.csv\n",
      " create mode 100644 Lab11.ipynb\n",
      " create mode 100644 Lab12.ipynb\n",
      " create mode 100644 Lab2.ipynb\n",
      " create mode 100644 Lab3.ipynb\n",
      " create mode 100644 Lab4.ipynb\n",
      " create mode 100644 Lab5/Group Lab5 .zip\n",
      " create mode 100644 Lab5/images/R001.png\n",
      " create mode 100644 Lab5/images/R002.png\n",
      " create mode 100644 Lab5/images/R003.png\n",
      " create mode 100644 Lab5/images/R004.png\n",
      " create mode 100644 Lab5/images/R005.png\n",
      " create mode 100644 Lab5/images/R006.png\n",
      " create mode 100644 Lab5/images/R007.png\n",
      " create mode 100644 Lab5/images/R008.png\n",
      " create mode 100644 Lab5/images/R009.png\n",
      " create mode 100644 Lab5/images/R010.png\n",
      " create mode 100644 Lab5/images/R011.png\n",
      " create mode 100644 Lab5/images/R012.png\n",
      " create mode 100644 Lab5/images/R013.png\n",
      " create mode 100644 Lab5/images/R014.png\n",
      " create mode 100644 Lab5/images/R015.png\n",
      " create mode 100644 Lab5/images/R016.png\n",
      " create mode 100644 Lab5/images/R017.png\n",
      " create mode 100644 Lab5/images/R018.png\n",
      " create mode 100644 Lab5/images/R019.png\n",
      " create mode 100644 Lab5/images/R020.png\n",
      " create mode 100644 Lab5/images/R021.png\n",
      " create mode 100644 Lab5/images/R022.png\n",
      " create mode 100644 Lab5/images/R023.png\n",
      " create mode 100644 Lab5/images/R024.png\n",
      " create mode 100644 Lab5/images/R025.png\n",
      " create mode 100644 Lab5/main.ipynb\n",
      " create mode 100644 Lab5/main.py\n",
      " create mode 100644 Lab5/processed/centroid/R001.txt\n",
      " create mode 100644 Lab5/processed/centroid/R002.txt\n",
      " create mode 100644 Lab5/processed/centroid/R003.txt\n",
      " create mode 100644 Lab5/processed/centroid/R004.txt\n",
      " create mode 100644 Lab5/processed/centroid/R005.txt\n",
      " create mode 100644 Lab5/processed/centroid/R006.txt\n",
      " create mode 100644 Lab5/processed/centroid/R007.txt\n",
      " create mode 100644 Lab5/processed/centroid/R008.txt\n",
      " create mode 100644 Lab5/processed/centroid/R009.txt\n",
      " create mode 100644 Lab5/processed/centroid/R010.txt\n",
      " create mode 100644 Lab5/processed/centroid/R011.txt\n",
      " create mode 100644 Lab5/processed/centroid/R012.txt\n",
      " create mode 100644 Lab5/processed/centroid/R013.txt\n",
      " create mode 100644 Lab5/processed/centroid/R014.txt\n",
      " create mode 100644 Lab5/processed/centroid/R015.txt\n",
      " create mode 100644 Lab5/processed/centroid/R016.txt\n",
      " create mode 100644 Lab5/processed/centroid/R017.txt\n",
      " create mode 100644 Lab5/processed/centroid/R018.txt\n",
      " create mode 100644 Lab5/processed/centroid/R019.txt\n",
      " create mode 100644 Lab5/processed/centroid/R020.txt\n",
      " create mode 100644 Lab5/processed/centroid/R021.txt\n",
      " create mode 100644 Lab5/processed/centroid/R022.txt\n",
      " create mode 100644 Lab5/processed/centroid/R023.txt\n",
      " create mode 100644 Lab5/processed/centroid/R024.txt\n",
      " create mode 100644 Lab5/processed/centroid/R025.txt\n",
      " create mode 100644 Lab5/processed/images/R001_processed.png\n",
      " create mode 100644 Lab5/processed/images/R002_processed.png\n",
      " create mode 100644 Lab5/processed/images/R003_processed.png\n",
      " create mode 100644 Lab5/processed/images/R004_processed.png\n",
      " create mode 100644 Lab5/processed/images/R005_processed.png\n",
      " create mode 100644 Lab5/processed/images/R006_processed.png\n",
      " create mode 100644 Lab5/processed/images/R007_processed.png\n",
      " create mode 100644 Lab5/processed/images/R008_processed.png\n",
      " create mode 100644 Lab5/processed/images/R009_processed.png\n",
      " create mode 100644 Lab5/processed/images/R010_processed.png\n",
      " create mode 100644 Lab5/processed/images/R011_processed.png\n",
      " create mode 100644 Lab5/processed/images/R012_processed.png\n",
      " create mode 100644 Lab5/processed/images/R013_processed.png\n",
      " create mode 100644 Lab5/processed/images/R014_processed.png\n",
      " create mode 100644 Lab5/processed/images/R015_processed.png\n",
      " create mode 100644 Lab5/processed/images/R016_processed.png\n",
      " create mode 100644 Lab5/processed/images/R017_processed.png\n",
      " create mode 100644 Lab5/processed/images/R018_processed.png\n",
      " create mode 100644 Lab5/processed/images/R019_processed.png\n",
      " create mode 100644 Lab5/processed/images/R020_processed.png\n",
      " create mode 100644 Lab5/processed/images/R021_processed.png\n",
      " create mode 100644 Lab5/processed/images/R022_processed.png\n",
      " create mode 100644 Lab5/processed/images/R023_processed.png\n",
      " create mode 100644 Lab5/processed/images/R024_processed.png\n",
      " create mode 100644 Lab5/processed/images/R025_processed.png\n",
      " create mode 100644 Lab5/processed/ratio/R001.txt\n",
      " create mode 100644 Lab5/processed/ratio/R002.txt\n",
      " create mode 100644 Lab5/processed/ratio/R003.txt\n",
      " create mode 100644 Lab5/processed/ratio/R004.txt\n",
      " create mode 100644 Lab5/processed/ratio/R005.txt\n",
      " create mode 100644 Lab5/processed/ratio/R006.txt\n",
      " create mode 100644 Lab5/processed/ratio/R007.txt\n",
      " create mode 100644 Lab5/processed/ratio/R008.txt\n",
      " create mode 100644 Lab5/processed/ratio/R009.txt\n",
      " create mode 100644 Lab5/processed/ratio/R010.txt\n",
      " create mode 100644 Lab5/processed/ratio/R011.txt\n",
      " create mode 100644 Lab5/processed/ratio/R012.txt\n",
      " create mode 100644 Lab5/processed/ratio/R013.txt\n",
      " create mode 100644 Lab5/processed/ratio/R014.txt\n",
      " create mode 100644 Lab5/processed/ratio/R015.txt\n",
      " create mode 100644 Lab5/processed/ratio/R016.txt\n",
      " create mode 100644 Lab5/processed/ratio/R017.txt\n",
      " create mode 100644 Lab5/processed/ratio/R018.txt\n",
      " create mode 100644 Lab5/processed/ratio/R019.txt\n",
      " create mode 100644 Lab5/processed/ratio/R020.txt\n",
      " create mode 100644 Lab5/processed/ratio/R021.txt\n",
      " create mode 100644 Lab5/processed/ratio/R022.txt\n",
      " create mode 100644 Lab5/processed/ratio/R023.txt\n",
      " create mode 100644 Lab5/processed/ratio/R024.txt\n",
      " create mode 100644 Lab5/processed/ratio/R025.txt\n",
      " create mode 100644 Lab5/processed/skew/R001.txt\n",
      " create mode 100644 Lab5/processed/skew/R002.txt\n",
      " create mode 100644 Lab5/processed/skew/R003.txt\n",
      " create mode 100644 Lab5/processed/skew/R004.txt\n",
      " create mode 100644 Lab5/processed/skew/R005.txt\n",
      " create mode 100644 Lab5/processed/skew/R006.txt\n",
      " create mode 100644 Lab5/processed/skew/R007.txt\n",
      " create mode 100644 Lab5/processed/skew/R008.txt\n",
      " create mode 100644 Lab5/processed/skew/R009.txt\n",
      " create mode 100644 Lab5/processed/skew/R010.txt\n",
      " create mode 100644 Lab5/processed/skew/R011.txt\n",
      " create mode 100644 Lab5/processed/skew/R012.txt\n",
      " create mode 100644 Lab5/processed/skew/R013.txt\n",
      " create mode 100644 Lab5/processed/skew/R014.txt\n",
      " create mode 100644 Lab5/processed/skew/R015.txt\n",
      " create mode 100644 Lab5/processed/skew/R016.txt\n",
      " create mode 100644 Lab5/processed/skew/R017.txt\n",
      " create mode 100644 Lab5/processed/skew/R018.txt\n",
      " create mode 100644 Lab5/processed/skew/R019.txt\n",
      " create mode 100644 Lab5/processed/skew/R020.txt\n",
      " create mode 100644 Lab5/processed/skew/R021.txt\n",
      " create mode 100644 Lab5/processed/skew/R022.txt\n",
      " create mode 100644 Lab5/processed/skew/R023.txt\n",
      " create mode 100644 Lab5/processed/skew/R024.txt\n",
      " create mode 100644 Lab5/processed/skew/R025.txt\n",
      " create mode 100644 Lab5/processed/slant/R001.txt\n",
      " create mode 100644 Lab5/processed/slant/R002.txt\n",
      " create mode 100644 Lab5/processed/slant/R003.txt\n",
      " create mode 100644 Lab5/processed/slant/R004.txt\n",
      " create mode 100644 Lab5/processed/slant/R005.txt\n",
      " create mode 100644 Lab5/processed/slant/R006.txt\n",
      " create mode 100644 Lab5/processed/slant/R007.txt\n",
      " create mode 100644 Lab5/processed/slant/R008.txt\n",
      " create mode 100644 Lab5/processed/slant/R009.txt\n",
      " create mode 100644 Lab5/processed/slant/R010.txt\n",
      " create mode 100644 Lab5/processed/slant/R011.txt\n",
      " create mode 100644 Lab5/processed/slant/R012.txt\n",
      " create mode 100644 Lab5/processed/slant/R013.txt\n",
      " create mode 100644 Lab5/processed/slant/R014.txt\n",
      " create mode 100644 Lab5/processed/slant/R015.txt\n",
      " create mode 100644 Lab5/processed/slant/R016.txt\n",
      " create mode 100644 Lab5/processed/slant/R017.txt\n",
      " create mode 100644 Lab5/processed/slant/R018.txt\n",
      " create mode 100644 Lab5/processed/slant/R019.txt\n",
      " create mode 100644 Lab5/processed/slant/R020.txt\n",
      " create mode 100644 Lab5/processed/slant/R021.txt\n",
      " create mode 100644 Lab5/processed/slant/R022.txt\n",
      " create mode 100644 Lab5/processed/slant/R023.txt\n",
      " create mode 100644 Lab5/processed/slant/R024.txt\n",
      " create mode 100644 Lab5/processed/slant/R025.txt\n",
      " create mode 100644 Lab5/processed/transitions/R001.txt\n",
      " create mode 100644 Lab5/processed/transitions/R002.txt\n",
      " create mode 100644 Lab5/processed/transitions/R003.txt\n",
      " create mode 100644 Lab5/processed/transitions/R004.txt\n",
      " create mode 100644 Lab5/processed/transitions/R005.txt\n",
      " create mode 100644 Lab5/processed/transitions/R006.txt\n",
      " create mode 100644 Lab5/processed/transitions/R007.txt\n",
      " create mode 100644 Lab5/processed/transitions/R008.txt\n",
      " create mode 100644 Lab5/processed/transitions/R009.txt\n",
      " create mode 100644 Lab5/processed/transitions/R010.txt\n",
      " create mode 100644 Lab5/processed/transitions/R011.txt\n",
      " create mode 100644 Lab5/processed/transitions/R012.txt\n",
      " create mode 100644 Lab5/processed/transitions/R013.txt\n",
      " create mode 100644 Lab5/processed/transitions/R014.txt\n",
      " create mode 100644 Lab5/processed/transitions/R015.txt\n",
      " create mode 100644 Lab5/processed/transitions/R016.txt\n",
      " create mode 100644 Lab5/processed/transitions/R017.txt\n",
      " create mode 100644 Lab5/processed/transitions/R018.txt\n",
      " create mode 100644 Lab5/processed/transitions/R019.txt\n",
      " create mode 100644 Lab5/processed/transitions/R020.txt\n",
      " create mode 100644 Lab5/processed/transitions/R021.txt\n",
      " create mode 100644 Lab5/processed/transitions/R022.txt\n",
      " create mode 100644 Lab5/processed/transitions/R023.txt\n",
      " create mode 100644 Lab5/processed/transitions/R024.txt\n",
      " create mode 100644 Lab5/processed/transitions/R025.txt\n",
      " create mode 100644 Lab6.ipynb\n",
      " create mode 100644 Lab7.ipynb\n",
      " create mode 100644 Lab8.ipynb\n",
      " create mode 100644 Lab9.ipynb\n",
      " create mode 100644 heart.csv\n",
      " create mode 100644 lab10.ipynb\n",
      " create mode 100644 screenshots/kernel-selection.png\n",
      " create mode 100644 student_data.csv\n",
      " create mode 100644 test.zip\n",
      " create mode 100644 titanic.zip\n",
      " create mode 100644 titanic/gender_submission.csv\n",
      " create mode 100644 titanic/test.csv\n",
      " create mode 100644 titanic/train.csv\n"
     ]
    },
    {
     "name": "stderr",
     "output_type": "stream",
     "text": [
      "warning: in the working copy of 'Assignment 1/code.ipynb', LF will be replaced by CRLF the next time Git touches it\n",
      "warning: in the working copy of 'Assignment 2/code.ipynb', LF will be replaced by CRLF the next time Git touches it\n",
      "warning: in the working copy of 'Lab11.ipynb', LF will be replaced by CRLF the next time Git touches it\n",
      "warning: in the working copy of 'Lab12.ipynb', LF will be replaced by CRLF the next time Git touches it\n",
      "warning: in the working copy of 'Lab2.ipynb', LF will be replaced by CRLF the next time Git touches it\n",
      "warning: in the working copy of 'Lab3.ipynb', LF will be replaced by CRLF the next time Git touches it\n",
      "warning: in the working copy of 'Lab4.ipynb', LF will be replaced by CRLF the next time Git touches it\n",
      "warning: in the working copy of 'Lab5/main.ipynb', LF will be replaced by CRLF the next time Git touches it\n",
      "warning: in the working copy of 'Lab6.ipynb', LF will be replaced by CRLF the next time Git touches it\n",
      "warning: in the working copy of 'Lab7.ipynb', LF will be replaced by CRLF the next time Git touches it\n",
      "warning: in the working copy of 'Lab8.ipynb', LF will be replaced by CRLF the next time Git touches it\n",
      "warning: in the working copy of 'Lab9.ipynb', LF will be replaced by CRLF the next time Git touches it\n",
      "warning: in the working copy of 'lab10.ipynb', LF will be replaced by CRLF the next time Git touches it\n",
      "warning: in the working copy of 'student_data.csv', LF will be replaced by CRLF the next time Git touches it\n"
     ]
    }
   ],
   "source": [
    "!git init . && git add . && git commit -m \"Initial commit\""
   ]
  },
  {
   "cell_type": "markdown",
   "metadata": {},
   "source": [
    "## Data Preperation"
   ]
  },
  {
   "cell_type": "code",
   "execution_count": 2,
   "metadata": {},
   "outputs": [],
   "source": [
    "!mkdir data"
   ]
  },
  {
   "cell_type": "markdown",
   "metadata": {},
   "source": [
    "- I have added the titanic data set in the data folder"
   ]
  },
  {
   "cell_type": "code",
   "execution_count": 4,
   "metadata": {},
   "outputs": [
    {
     "name": "stdout",
     "output_type": "stream",
     "text": [
      " Volume in drive C has no label.\n",
      " Volume Serial Number is 94C9-F421\n",
      "\n",
      " Directory of c:\\Users\\Ahmed Mohiuddin Shah\\Documents\\Machine Learning Labs\\data\\titanic\n",
      "\n",
      "12/10/2024  03:52 PM    <DIR>          .\n",
      "12/10/2024  03:52 PM    <DIR>          ..\n",
      "10/26/2024  12:05 AM             3,258 gender_submission.csv\n",
      "10/26/2024  12:05 AM            28,629 test.csv\n",
      "10/26/2024  12:05 AM            61,194 train.csv\n",
      "               3 File(s)         93,081 bytes\n",
      "               2 Dir(s)     545,562,624 bytes free\n"
     ]
    }
   ],
   "source": [
    "!dir data\\titanic\\"
   ]
  },
  {
   "cell_type": "code",
   "execution_count": 13,
   "metadata": {},
   "outputs": [
    {
     "data": {
      "text/html": [
       "<div>\n",
       "<style scoped>\n",
       "    .dataframe tbody tr th:only-of-type {\n",
       "        vertical-align: middle;\n",
       "    }\n",
       "\n",
       "    .dataframe tbody tr th {\n",
       "        vertical-align: top;\n",
       "    }\n",
       "\n",
       "    .dataframe thead th {\n",
       "        text-align: right;\n",
       "    }\n",
       "</style>\n",
       "<table border=\"1\" class=\"dataframe\">\n",
       "  <thead>\n",
       "    <tr style=\"text-align: right;\">\n",
       "      <th></th>\n",
       "      <th>PassengerId</th>\n",
       "      <th>Survived</th>\n",
       "      <th>Pclass</th>\n",
       "      <th>Name</th>\n",
       "      <th>Sex</th>\n",
       "      <th>Age</th>\n",
       "      <th>SibSp</th>\n",
       "      <th>Parch</th>\n",
       "      <th>Ticket</th>\n",
       "      <th>Fare</th>\n",
       "      <th>Cabin</th>\n",
       "      <th>Embarked</th>\n",
       "    </tr>\n",
       "  </thead>\n",
       "  <tbody>\n",
       "    <tr>\n",
       "      <th>0</th>\n",
       "      <td>1</td>\n",
       "      <td>0</td>\n",
       "      <td>3</td>\n",
       "      <td>Braund, Mr. Owen Harris</td>\n",
       "      <td>male</td>\n",
       "      <td>22.0</td>\n",
       "      <td>1</td>\n",
       "      <td>0</td>\n",
       "      <td>A/5 21171</td>\n",
       "      <td>7.2500</td>\n",
       "      <td>NaN</td>\n",
       "      <td>S</td>\n",
       "    </tr>\n",
       "    <tr>\n",
       "      <th>1</th>\n",
       "      <td>2</td>\n",
       "      <td>1</td>\n",
       "      <td>1</td>\n",
       "      <td>Cumings, Mrs. John Bradley (Florence Briggs Th...</td>\n",
       "      <td>female</td>\n",
       "      <td>38.0</td>\n",
       "      <td>1</td>\n",
       "      <td>0</td>\n",
       "      <td>PC 17599</td>\n",
       "      <td>71.2833</td>\n",
       "      <td>C85</td>\n",
       "      <td>C</td>\n",
       "    </tr>\n",
       "    <tr>\n",
       "      <th>2</th>\n",
       "      <td>3</td>\n",
       "      <td>1</td>\n",
       "      <td>3</td>\n",
       "      <td>Heikkinen, Miss. Laina</td>\n",
       "      <td>female</td>\n",
       "      <td>26.0</td>\n",
       "      <td>0</td>\n",
       "      <td>0</td>\n",
       "      <td>STON/O2. 3101282</td>\n",
       "      <td>7.9250</td>\n",
       "      <td>NaN</td>\n",
       "      <td>S</td>\n",
       "    </tr>\n",
       "    <tr>\n",
       "      <th>3</th>\n",
       "      <td>4</td>\n",
       "      <td>1</td>\n",
       "      <td>1</td>\n",
       "      <td>Futrelle, Mrs. Jacques Heath (Lily May Peel)</td>\n",
       "      <td>female</td>\n",
       "      <td>35.0</td>\n",
       "      <td>1</td>\n",
       "      <td>0</td>\n",
       "      <td>113803</td>\n",
       "      <td>53.1000</td>\n",
       "      <td>C123</td>\n",
       "      <td>S</td>\n",
       "    </tr>\n",
       "    <tr>\n",
       "      <th>4</th>\n",
       "      <td>5</td>\n",
       "      <td>0</td>\n",
       "      <td>3</td>\n",
       "      <td>Allen, Mr. William Henry</td>\n",
       "      <td>male</td>\n",
       "      <td>35.0</td>\n",
       "      <td>0</td>\n",
       "      <td>0</td>\n",
       "      <td>373450</td>\n",
       "      <td>8.0500</td>\n",
       "      <td>NaN</td>\n",
       "      <td>S</td>\n",
       "    </tr>\n",
       "  </tbody>\n",
       "</table>\n",
       "</div>"
      ],
      "text/plain": [
       "   PassengerId  Survived  Pclass  \\\n",
       "0            1         0       3   \n",
       "1            2         1       1   \n",
       "2            3         1       3   \n",
       "3            4         1       1   \n",
       "4            5         0       3   \n",
       "\n",
       "                                                Name     Sex   Age  SibSp  \\\n",
       "0                            Braund, Mr. Owen Harris    male  22.0      1   \n",
       "1  Cumings, Mrs. John Bradley (Florence Briggs Th...  female  38.0      1   \n",
       "2                             Heikkinen, Miss. Laina  female  26.0      0   \n",
       "3       Futrelle, Mrs. Jacques Heath (Lily May Peel)  female  35.0      1   \n",
       "4                           Allen, Mr. William Henry    male  35.0      0   \n",
       "\n",
       "   Parch            Ticket     Fare Cabin Embarked  \n",
       "0      0         A/5 21171   7.2500   NaN        S  \n",
       "1      0          PC 17599  71.2833   C85        C  \n",
       "2      0  STON/O2. 3101282   7.9250   NaN        S  \n",
       "3      0            113803  53.1000  C123        S  \n",
       "4      0            373450   8.0500   NaN        S  "
      ]
     },
     "execution_count": 13,
     "metadata": {},
     "output_type": "execute_result"
    }
   ],
   "source": [
    "import pandas as pd\n",
    "data = pd.read_csv('data/titanic/train.csv')\n",
    "data.head()"
   ]
  },
  {
   "cell_type": "markdown",
   "metadata": {},
   "source": [
    "## Initializing DVC"
   ]
  },
  {
   "cell_type": "code",
   "execution_count": 3,
   "metadata": {},
   "outputs": [
    {
     "name": "stdout",
     "output_type": "stream",
     "text": [
      "Initialized DVC repository.\n",
      "\n",
      "You can now commit the changes to git.\n",
      "\n",
      "+---------------------------------------------------------------------+\n",
      "|                                                                     |\n",
      "|        DVC has enabled anonymous aggregate usage analytics.         |\n",
      "|     Read the analytics documentation (and how to opt-out) here:     |\n",
      "|             <https://dvc.org/doc/user-guide/analytics>              |\n",
      "|                                                                     |\n",
      "+---------------------------------------------------------------------+\n",
      "\n",
      "What's next?\n",
      "------------\n",
      "- Check out the documentation: <https://dvc.org/doc>\n",
      "- Get help and share ideas: <https://dvc.org/chat>\n",
      "- Star us on GitHub: <https://github.com/iterative/dvc>\n"
     ]
    }
   ],
   "source": [
    "!python -m dvc init "
   ]
  },
  {
   "cell_type": "code",
   "execution_count": 2,
   "metadata": {},
   "outputs": [
    {
     "name": "stdout",
     "output_type": "stream",
     "text": [
      "On branch main\n",
      "Your branch is up to date with 'origin/main'.\n",
      "\n",
      "Changes not staged for commit:\n",
      "  (use \"git add <file>...\" to update what will be committed)\n",
      "  (use \"git restore <file>...\" to discard changes in working directory)\n",
      "\tmodified:   Lab12.ipynb\n",
      "\n",
      "no changes added to commit (use \"git add\" and/or \"git commit -a\")\n"
     ]
    }
   ],
   "source": [
    "!git add .dvc .gitignore \n",
    "!git commit -m \"Initialize DVC\" "
   ]
  },
  {
   "cell_type": "markdown",
   "metadata": {},
   "source": [
    "## Adding Data to DVC"
   ]
  },
  {
   "cell_type": "code",
   "execution_count": 9,
   "metadata": {},
   "outputs": [
    {
     "name": "stdout",
     "output_type": "stream",
     "text": [
      "\n",
      "To track the changes with git, run:\n",
      "\n",
      "\tgit add 'data\\titanic\\train.csv.dvc'\n",
      "\n",
      "To enable auto staging, run:\n",
      "\n",
      "\tdvc config core.autostage true\n"
     ]
    },
    {
     "name": "stderr",
     "output_type": "stream",
     "text": [
      "⠋ Checking graph\n",
      "\n"
     ]
    }
   ],
   "source": [
    "!python -m dvc add data/titanic/train.csv"
   ]
  },
  {
   "cell_type": "code",
   "execution_count": 11,
   "metadata": {},
   "outputs": [
    {
     "name": "stdout",
     "output_type": "stream",
     "text": [
      "[main 4dcf543] chore: Track train.csv with DVC\n",
      " 1 file changed, 5 insertions(+)\n",
      " create mode 100644 data/titanic/train.csv.dvc\n"
     ]
    }
   ],
   "source": [
    "!git add \"data/titanic/train.csv.dvc\"\n",
    "!git commit -m \"chore: Track train.csv with DVC\" "
   ]
  },
  {
   "cell_type": "markdown",
   "metadata": {},
   "source": [
    "## Simulating a Data Update"
   ]
  },
  {
   "cell_type": "code",
   "execution_count": 12,
   "metadata": {},
   "outputs": [
    {
     "name": "stdout",
     "output_type": "stream",
     "text": [
      "Data and pipelines are up to date.\n"
     ]
    }
   ],
   "source": [
    "!python -m dvc status"
   ]
  },
  {
   "cell_type": "code",
   "execution_count": 16,
   "metadata": {},
   "outputs": [
    {
     "data": {
      "text/html": [
       "<div>\n",
       "<style scoped>\n",
       "    .dataframe tbody tr th:only-of-type {\n",
       "        vertical-align: middle;\n",
       "    }\n",
       "\n",
       "    .dataframe tbody tr th {\n",
       "        vertical-align: top;\n",
       "    }\n",
       "\n",
       "    .dataframe thead th {\n",
       "        text-align: right;\n",
       "    }\n",
       "</style>\n",
       "<table border=\"1\" class=\"dataframe\">\n",
       "  <thead>\n",
       "    <tr style=\"text-align: right;\">\n",
       "      <th></th>\n",
       "      <th>PassengerId</th>\n",
       "      <th>Survived</th>\n",
       "      <th>Pclass</th>\n",
       "      <th>Name</th>\n",
       "      <th>Sex</th>\n",
       "      <th>Age</th>\n",
       "      <th>SibSp</th>\n",
       "      <th>Parch</th>\n",
       "      <th>Ticket</th>\n",
       "      <th>Fare</th>\n",
       "      <th>Cabin</th>\n",
       "      <th>Embarked</th>\n",
       "    </tr>\n",
       "  </thead>\n",
       "  <tbody>\n",
       "    <tr>\n",
       "      <th>0</th>\n",
       "      <td>1</td>\n",
       "      <td>0</td>\n",
       "      <td>3</td>\n",
       "      <td>BRAUND, MR. OWEN HARRIS</td>\n",
       "      <td>male</td>\n",
       "      <td>22.0</td>\n",
       "      <td>1</td>\n",
       "      <td>0</td>\n",
       "      <td>A/5 21171</td>\n",
       "      <td>7.2500</td>\n",
       "      <td>NaN</td>\n",
       "      <td>S</td>\n",
       "    </tr>\n",
       "    <tr>\n",
       "      <th>1</th>\n",
       "      <td>2</td>\n",
       "      <td>1</td>\n",
       "      <td>1</td>\n",
       "      <td>CUMINGS, MRS. JOHN BRADLEY (FLORENCE BRIGGS TH...</td>\n",
       "      <td>female</td>\n",
       "      <td>38.0</td>\n",
       "      <td>1</td>\n",
       "      <td>0</td>\n",
       "      <td>PC 17599</td>\n",
       "      <td>71.2833</td>\n",
       "      <td>C85</td>\n",
       "      <td>C</td>\n",
       "    </tr>\n",
       "    <tr>\n",
       "      <th>2</th>\n",
       "      <td>3</td>\n",
       "      <td>1</td>\n",
       "      <td>3</td>\n",
       "      <td>HEIKKINEN, MISS. LAINA</td>\n",
       "      <td>female</td>\n",
       "      <td>26.0</td>\n",
       "      <td>0</td>\n",
       "      <td>0</td>\n",
       "      <td>STON/O2. 3101282</td>\n",
       "      <td>7.9250</td>\n",
       "      <td>NaN</td>\n",
       "      <td>S</td>\n",
       "    </tr>\n",
       "    <tr>\n",
       "      <th>3</th>\n",
       "      <td>4</td>\n",
       "      <td>1</td>\n",
       "      <td>1</td>\n",
       "      <td>FUTRELLE, MRS. JACQUES HEATH (LILY MAY PEEL)</td>\n",
       "      <td>female</td>\n",
       "      <td>35.0</td>\n",
       "      <td>1</td>\n",
       "      <td>0</td>\n",
       "      <td>113803</td>\n",
       "      <td>53.1000</td>\n",
       "      <td>C123</td>\n",
       "      <td>S</td>\n",
       "    </tr>\n",
       "    <tr>\n",
       "      <th>4</th>\n",
       "      <td>5</td>\n",
       "      <td>0</td>\n",
       "      <td>3</td>\n",
       "      <td>ALLEN, MR. WILLIAM HENRY</td>\n",
       "      <td>male</td>\n",
       "      <td>35.0</td>\n",
       "      <td>0</td>\n",
       "      <td>0</td>\n",
       "      <td>373450</td>\n",
       "      <td>8.0500</td>\n",
       "      <td>NaN</td>\n",
       "      <td>S</td>\n",
       "    </tr>\n",
       "  </tbody>\n",
       "</table>\n",
       "</div>"
      ],
      "text/plain": [
       "   PassengerId  Survived  Pclass  \\\n",
       "0            1         0       3   \n",
       "1            2         1       1   \n",
       "2            3         1       3   \n",
       "3            4         1       1   \n",
       "4            5         0       3   \n",
       "\n",
       "                                                Name     Sex   Age  SibSp  \\\n",
       "0                            BRAUND, MR. OWEN HARRIS    male  22.0      1   \n",
       "1  CUMINGS, MRS. JOHN BRADLEY (FLORENCE BRIGGS TH...  female  38.0      1   \n",
       "2                             HEIKKINEN, MISS. LAINA  female  26.0      0   \n",
       "3       FUTRELLE, MRS. JACQUES HEATH (LILY MAY PEEL)  female  35.0      1   \n",
       "4                           ALLEN, MR. WILLIAM HENRY    male  35.0      0   \n",
       "\n",
       "   Parch            Ticket     Fare Cabin Embarked  \n",
       "0      0         A/5 21171   7.2500   NaN        S  \n",
       "1      0          PC 17599  71.2833   C85        C  \n",
       "2      0  STON/O2. 3101282   7.9250   NaN        S  \n",
       "3      0            113803  53.1000  C123        S  \n",
       "4      0            373450   8.0500   NaN        S  "
      ]
     },
     "execution_count": 16,
     "metadata": {},
     "output_type": "execute_result"
    }
   ],
   "source": [
    "# Making changes to the data\n",
    "data['Name'] = data['Name'].str.upper()\n",
    "# Saving the changes\n",
    "data.to_csv('data/titanic/train.csv', index=False)\n",
    "data.head()"
   ]
  },
  {
   "cell_type": "code",
   "execution_count": 17,
   "metadata": {},
   "outputs": [
    {
     "name": "stdout",
     "output_type": "stream",
     "text": [
      "data\\titanic\\train.csv.dvc:\n",
      "\tchanged outs:\n",
      "\t\tmodified:           data\\titanic\\train.csv\n"
     ]
    }
   ],
   "source": [
    "!python -m dvc status"
   ]
  },
  {
   "cell_type": "code",
   "execution_count": 21,
   "metadata": {},
   "outputs": [
    {
     "name": "stdout",
     "output_type": "stream",
     "text": [
      "\n",
      "To track the changes with git, run:\n",
      "\n",
      "\tgit add 'data\\titanic\\train.csv.dvc'\n",
      "\n",
      "To enable auto staging, run:\n",
      "\n",
      "\tdvc config core.autostage true\n"
     ]
    },
    {
     "name": "stderr",
     "output_type": "stream",
     "text": [
      "⠋ Checking graph\n",
      "\n"
     ]
    },
    {
     "name": "stdout",
     "output_type": "stream",
     "text": [
      "[main 70fe96e] chore: Update train.csv with new data\n",
      " 1 file changed, 2 insertions(+), 2 deletions(-)\n"
     ]
    }
   ],
   "source": [
    "!python -m dvc add data/titanic/train.csv \n",
    "!git add data/titanic/train.csv.dvc\n",
    "!git commit -m \"chore: Update train.csv with new data\" "
   ]
  },
  {
   "cell_type": "markdown",
   "metadata": {},
   "source": [
    "## Viewing Version History "
   ]
  },
  {
   "cell_type": "code",
   "execution_count": 48,
   "metadata": {},
   "outputs": [
    {
     "name": "stdout",
     "output_type": "stream",
     "text": [
      ".\n",
      ".\n"
     ]
    }
   ],
   "source": [
    "!python -m dvc list data/titanic/train.csv\n",
    "!python -m dvc list --dvc-only data/titanic/train.csv"
   ]
  },
  {
   "cell_type": "code",
   "execution_count": 47,
   "metadata": {},
   "outputs": [
    {
     "name": "stderr",
     "output_type": "stream",
     "text": [
      "⠋ Building workspace index\n",
      "\n",
      "⠋ Calculating diff\n",
      "\n"
     ]
    }
   ],
   "source": [
    "!python -m dvc diff\n"
   ]
  },
  {
   "cell_type": "code",
   "execution_count": 43,
   "metadata": {},
   "outputs": [
    {
     "name": "stdout",
     "output_type": "stream",
     "text": [
      "diff --git a/Lab12.ipynb b/Lab12.ipynb\n",
      "index 06ee995..ee671a9 100644\n",
      "--- a/Lab12.ipynb\n",
      "+++ b/Lab12.ipynb\n",
      "@@ -765,7 +765,7 @@\n",
      "   },\n",
      "   {\n",
      "    \"cell_type\": \"code\",\n",
      "-   \"execution_count\": 5,\n",
      "+   \"execution_count\": 13,\n",
      "    \"metadata\": {},\n",
      "    \"outputs\": [\n",
      "     {\n",
      "@@ -906,7 +906,7 @@\n",
      "        \"4      0            373450   8.0500   NaN        S  \"\n",
      "       ]\n",
      "      },\n",
      "-     \"execution_count\": 5,\n",
      "+     \"execution_count\": 13,\n",
      "      \"metadata\": {},\n",
      "      \"output_type\": \"execute_result\"\n",
      "     }\n",
      "@@ -1049,12 +1049,294 @@\n",
      "     \"## Simulating a Data Update\"\n",
      "    ]\n",
      "   },\n",
      "+  {\n",
      "+   \"cell_type\": \"code\",\n",
      "+   \"execution_count\": 12,\n",
      "+   \"metadata\": {},\n",
      "+   \"outputs\": [\n",
      "+    {\n",
      "+     \"name\": \"stdout\",\n",
      "+     \"output_type\": \"stream\",\n",
      "+     \"text\": [\n",
      "+      \"Data and pipelines are up to date.\\n\"\n",
      "+     ]\n",
      "+    }\n",
      "+   ],\n",
      "+   \"source\": [\n",
      "+    \"!python -m dvc status\"\n",
      "+   ]\n",
      "+  },\n",
      "+  {\n",
      "+   \"cell_type\": \"code\",\n",
      "+   \"execution_count\": 16,\n",
      "+   \"metadata\": {},\n",
      "+   \"outputs\": [\n",
      "+    {\n",
      "+     \"data\": {\n",
      "+      \"text/html\": [\n",
      "+       \"<div>\\n\",\n",
      "+       \"<style scoped>\\n\",\n",
      "+       \"    .dataframe tbody tr th:only-of-type {\\n\",\n",
      "+       \"        vertical-align: middle;\\n\",\n",
      "+       \"    }\\n\",\n",
      "+       \"\\n\",\n",
      "+       \"    .dataframe tbody tr th {\\n\",\n",
      "+       \"        vertical-align: top;\\n\",\n",
      "+       \"    }\\n\",\n",
      "+       \"\\n\",\n",
      "+       \"    .dataframe thead th {\\n\",\n",
      "+       \"        text-align: right;\\n\",\n",
      "+       \"    }\\n\",\n",
      "+       \"</style>\\n\",\n",
      "+       \"<table border=\\\"1\\\" class=\\\"dataframe\\\">\\n\",\n",
      "+       \"  <thead>\\n\",\n",
      "+       \"    <tr style=\\\"text-align: right;\\\">\\n\",\n",
      "+       \"      <th></th>\\n\",\n",
      "+       \"      <th>PassengerId</th>\\n\",\n",
      "+       \"      <th>Survived</th>\\n\",\n",
      "+       \"      <th>Pclass</th>\\n\",\n",
      "+       \"      <th>Name</th>\\n\",\n",
      "+       \"      <th>Sex</th>\\n\",\n",
      "+       \"      <th>Age</th>\\n\",\n",
      "+       \"      <th>SibSp</th>\\n\",\n",
      "+       \"      <th>Parch</th>\\n\",\n",
      "+       \"      <th>Ticket</th>\\n\",\n",
      "+       \"      <th>Fare</th>\\n\",\n",
      "+       \"      <th>Cabin</th>\\n\",\n",
      "+       \"      <th>Embarked</th>\\n\",\n",
      "+       \"    </tr>\\n\",\n",
      "+       \"  </thead>\\n\",\n",
      "+       \"  <tbody>\\n\",\n",
      "+       \"    <tr>\\n\",\n",
      "+       \"      <th>0</th>\\n\",\n",
      "+       \"      <td>1</td>\\n\",\n",
      "+       \"      <td>0</td>\\n\",\n",
      "+       \"      <td>3</td>\\n\",\n",
      "+       \"      <td>BRAUND, MR. OWEN HARRIS</td>\\n\",\n",
      "+       \"      <td>male</td>\\n\",\n",
      "+       \"      <td>22.0</td>\\n\",\n",
      "+       \"      <td>1</td>\\n\",\n",
      "+       \"      <td>0</td>\\n\",\n",
      "+       \"      <td>A/5 21171</td>\\n\",\n",
      "+       \"      <td>7.2500</td>\\n\",\n",
      "+       \"      <td>NaN</td>\\n\",\n",
      "+       \"      <td>S</td>\\n\",\n",
      "+       \"    </tr>\\n\",\n",
      "+       \"    <tr>\\n\",\n",
      "+       \"      <th>1</th>\\n\",\n",
      "+       \"      <td>2</td>\\n\",\n",
      "+       \"      <td>1</td>\\n\",\n",
      "+       \"      <td>1</td>\\n\",\n",
      "+       \"      <td>CUMINGS, MRS. JOHN BRADLEY (FLORENCE BRIGGS TH...</td>\\n\",\n",
      "+       \"      <td>female</td>\\n\",\n",
      "+       \"      <td>38.0</td>\\n\",\n",
      "+       \"      <td>1</td>\\n\",\n",
      "+       \"      <td>0</td>\\n\",\n",
      "+       \"      <td>PC 17599</td>\\n\",\n",
      "+       \"      <td>71.2833</td>\\n\",\n",
      "+       \"      <td>C85</td>\\n\",\n",
      "+       \"      <td>C</td>\\n\",\n",
      "+       \"    </tr>\\n\",\n",
      "+       \"    <tr>\\n\",\n",
      "+       \"      <th>2</th>\\n\",\n",
      "+       \"      <td>3</td>\\n\",\n",
      "+       \"      <td>1</td>\\n\",\n",
      "+       \"      <td>3</td>\\n\",\n",
      "+       \"      <td>HEIKKINEN, MISS. LAINA</td>\\n\",\n",
      "+       \"      <td>female</td>\\n\",\n",
      "+       \"      <td>26.0</td>\\n\",\n",
      "+       \"      <td>0</td>\\n\",\n",
      "+       \"      <td>0</td>\\n\",\n",
      "+       \"      <td>STON/O2. 3101282</td>\\n\",\n",
      "+       \"      <td>7.9250</td>\\n\",\n",
      "+       \"      <td>NaN</td>\\n\",\n",
      "+       \"      <td>S</td>\\n\",\n",
      "+       \"    </tr>\\n\",\n",
      "+       \"    <tr>\\n\",\n",
      "+       \"      <th>3</th>\\n\",\n",
      "+       \"      <td>4</td>\\n\",\n",
      "+       \"      <td>1</td>\\n\",\n",
      "+       \"      <td>1</td>\\n\",\n",
      "+       \"      <td>FUTRELLE, MRS. JACQUES HEATH (LILY MAY PEEL)</td>\\n\",\n",
      "+       \"      <td>female</td>\\n\",\n",
      "+       \"      <td>35.0</td>\\n\",\n",
      "+       \"      <td>1</td>\\n\",\n",
      "+       \"      <td>0</td>\\n\",\n",
      "+       \"      <td>113803</td>\\n\",\n",
      "+       \"      <td>53.1000</td>\\n\",\n",
      "+       \"      <td>C123</td>\\n\",\n",
      "+       \"      <td>S</td>\\n\",\n",
      "+       \"    </tr>\\n\",\n",
      "+       \"    <tr>\\n\",\n",
      "+       \"      <th>4</th>\\n\",\n",
      "+       \"      <td>5</td>\\n\",\n",
      "+       \"      <td>0</td>\\n\",\n",
      "+       \"      <td>3</td>\\n\",\n",
      "+       \"      <td>ALLEN, MR. WILLIAM HENRY</td>\\n\",\n",
      "+       \"      <td>male</td>\\n\",\n",
      "+       \"      <td>35.0</td>\\n\",\n",
      "+       \"      <td>0</td>\\n\",\n",
      "+       \"      <td>0</td>\\n\",\n",
      "+       \"      <td>373450</td>\\n\",\n",
      "+       \"      <td>8.0500</td>\\n\",\n",
      "+       \"      <td>NaN</td>\\n\",\n",
      "+       \"      <td>S</td>\\n\",\n",
      "+       \"    </tr>\\n\",\n",
      "+       \"  </tbody>\\n\",\n",
      "+       \"</table>\\n\",\n",
      "+       \"</div>\"\n",
      "+      ],\n",
      "+      \"text/plain\": [\n",
      "+       \"   PassengerId  Survived  Pclass  \\\\\\n\",\n",
      "+       \"0            1         0       3   \\n\",\n",
      "+       \"1            2         1       1   \\n\",\n",
      "+       \"2            3         1       3   \\n\",\n",
      "+       \"3            4         1       1   \\n\",\n",
      "+       \"4            5         0       3   \\n\",\n",
      "+       \"\\n\",\n",
      "+       \"                                                Name     Sex   Age  SibSp  \\\\\\n\",\n",
      "+       \"0                            BRAUND, MR. OWEN HARRIS    male  22.0      1   \\n\",\n",
      "+       \"1  CUMINGS, MRS. JOHN BRADLEY (FLORENCE BRIGGS TH...  female  38.0      1   \\n\",\n",
      "+       \"2                             HEIKKINEN, MISS. LAINA  female  26.0      0   \\n\",\n",
      "+       \"3       FUTRELLE, MRS. JACQUES HEATH (LILY MAY PEEL)  female  35.0      1   \\n\",\n",
      "+       \"4                           ALLEN, MR. WILLIAM HENRY    male  35.0      0   \\n\",\n",
      "+       \"\\n\",\n",
      "+       \"   Parch            Ticket     Fare Cabin Embarked  \\n\",\n",
      "+       \"0      0         A/5 21171   7.2500   NaN        S  \\n\",\n",
      "+       \"1      0          PC 17599  71.2833   C85        C  \\n\",\n",
      "+       \"2      0  STON/O2. 3101282   7.9250   NaN        S  \\n\",\n",
      "+       \"3      0            113803  53.1000  C123        S  \\n\",\n",
      "+       \"4      0            373450   8.0500   NaN        S  \"\n",
      "+      ]\n",
      "+     },\n",
      "+     \"execution_count\": 16,\n",
      "+     \"metadata\": {},\n",
      "+     \"output_type\": \"execute_result\"\n",
      "+    }\n",
      "+   ],\n",
      "+   \"source\": [\n",
      "+    \"# Making changes to the data\\n\",\n",
      "+    \"data['Name'] = data['Name'].str.upper()\\n\",\n",
      "+    \"# Saving the changes\\n\",\n",
      "+    \"data.to_csv('data/titanic/train.csv', index=False)\\n\",\n",
      "+    \"data.head()\"\n",
      "+   ]\n",
      "+  },\n",
      "+  {\n",
      "+   \"cell_type\": \"code\",\n",
      "+   \"execution_count\": 17,\n",
      "+   \"metadata\": {},\n",
      "+   \"outputs\": [\n",
      "+    {\n",
      "+     \"name\": \"stdout\",\n",
      "+     \"output_type\": \"stream\",\n",
      "+     \"text\": [\n",
      "+      \"data\\\\titanic\\\\train.csv.dvc:\\n\",\n",
      "+      \"\\tchanged outs:\\n\",\n",
      "+      \"\\t\\tmodified:           data\\\\titanic\\\\train.csv\\n\"\n",
      "+     ]\n",
      "+    }\n",
      "+   ],\n",
      "+   \"source\": [\n",
      "+    \"!python -m dvc status\"\n",
      "+   ]\n",
      "+  },\n",
      "+  {\n",
      "+   \"cell_type\": \"code\",\n",
      "+   \"execution_count\": 21,\n",
      "+   \"metadata\": {},\n",
      "+   \"outputs\": [\n",
      "+    {\n",
      "+     \"name\": \"stdout\",\n",
      "+     \"output_type\": \"stream\",\n",
      "+     \"text\": [\n",
      "+      \"\\n\",\n",
      "+      \"To track the changes with git, run:\\n\",\n",
      "+      \"\\n\",\n",
      "+      \"\\tgit add 'data\\\\titanic\\\\train.csv.dvc'\\n\",\n",
      "+      \"\\n\",\n",
      "+      \"To enable auto staging, run:\\n\",\n",
      "+      \"\\n\",\n",
      "+      \"\\tdvc config core.autostage true\\n\"\n",
      "+     ]\n",
      "+    },\n",
      "+    {\n",
      "+     \"name\": \"stderr\",\n",
      "+     \"output_type\": \"stream\",\n",
      "+     \"text\": [\n",
      "+      \"⠋ Checking graph\\n\",\n",
      "+      \"\\n\"\n",
      "+     ]\n",
      "+    },\n",
      "+    {\n",
      "+     \"name\": \"stdout\",\n",
      "+     \"output_type\": \"stream\",\n",
      "+     \"text\": [\n",
      "+      \"[main 70fe96e] chore: Update train.csv with new data\\n\",\n",
      "+      \" 1 file changed, 2 insertions(+), 2 deletions(-)\\n\"\n",
      "+     ]\n",
      "+    }\n",
      "+   ],\n",
      "+   \"source\": [\n",
      "+    \"!python -m dvc add data/titanic/train.csv \\n\",\n",
      "+    \"!git add data/titanic/train.csv.dvc\\n\",\n",
      "+    \"!git commit -m \\\"chore: Update train.csv with new data\\\" \"\n",
      "+   ]\n",
      "+  },\n",
      "+  {\n",
      "+   \"cell_type\": \"markdown\",\n",
      "+   \"metadata\": {},\n",
      "+   \"source\": [\n",
      "+    \"## Viewing Version History \"\n",
      "+   ]\n",
      "+  },\n",
      "+  {\n",
      "+   \"cell_type\": \"code\",\n",
      "+   \"execution_count\": 34,\n",
      "+   \"metadata\": {},\n",
      "+   \"outputs\": [\n",
      "+    {\n",
      "+     \"name\": \"stdout\",\n",
      "+     \"output_type\": \"stream\",\n",
      "+     \"text\": [\n",
      "+      \".\\n\",\n",
      "+      \".\\n\"\n",
      "+     ]\n",
      "+    }\n",
      "+   ],\n",
      "+   \"source\": [\n",
      "+    \"!python -m dvc list data/titanic/train.csv\\n\",\n",
      "+    \"!python -m dvc list --dvc-only data/titanic/train.csv\"\n",
      "+   ]\n",
      "+  },\n",
      "+  {\n",
      "+   \"cell_type\": \"code\",\n",
      "+   \"execution_count\": 42,\n",
      "+   \"metadata\": {},\n",
      "+   \"outputs\": [\n",
      "+    {\n",
      "+     \"name\": \"stderr\",\n",
      "+     \"output_type\": \"stream\",\n",
      "+     \"text\": [\n",
      "+      \"⠋ Building workspace index\\n\",\n",
      "+      \"\\n\",\n",
      "+      \"⠋ Calculating diff\\n\",\n",
      "+      \"\\n\"\n",
      "+     ]\n",
      "+    }\n",
      "+   ],\n",
      "+   \"source\": [\n",
      "+    \"!python -m dvc diff\\n\"\n",
      "+   ]\n",
      "+  },\n",
      "   {\n",
      "    \"cell_type\": \"code\",\n",
      "    \"execution_count\": null,\n",
      "    \"metadata\": {},\n",
      "    \"outputs\": [],\n",
      "-   \"source\": []\n",
      "+   \"source\": [\n",
      "+    \"!git diff\"\n",
      "+   ]\n",
      "   }\n",
      "  ],\n",
      "  \"metadata\": {\n"
     ]
    },
    {
     "name": "stderr",
     "output_type": "stream",
     "text": [
      "warning: in the working copy of 'Lab12.ipynb', LF will be replaced by CRLF the next time Git touches it\n"
     ]
    }
   ],
   "source": [
    "!git diff"
   ]
  },
  {
   "cell_type": "code",
   "execution_count": 45,
   "metadata": {},
   "outputs": [
    {
     "name": "stderr",
     "output_type": "stream",
     "text": [
      "Note: switching to '76af4951148c79087f059d9390c867f1f99f5c5b'.\n",
      "\n",
      "You are in 'detached HEAD' state. You can look around, make experimental\n",
      "changes and commit them, and you can discard any commits you make in this\n",
      "state without impacting any branches by switching back to a branch.\n",
      "\n",
      "If you want to create a new branch to retain commits you create, you may\n",
      "do so (now or later) by using -c with the switch command. Example:\n",
      "\n",
      "  git switch -c <new-branch-name>\n",
      "\n",
      "Or undo this operation with:\n",
      "\n",
      "  git switch -\n",
      "\n",
      "Turn off this advice by setting config variable advice.detachedHead to false\n",
      "\n",
      "HEAD is now at 76af495 chore: update ipynb\n"
     ]
    },
    {
     "name": "stdout",
     "output_type": "stream",
     "text": [
      "M\tLab12.ipynb\n",
      "M       data\\titanic\\train.csv\n"
     ]
    }
   ],
   "source": [
    "!git checkout 76af4951148c79087f059d9390c867f1f99f5c5b\n",
    "!python -m dvc checkout "
   ]
  },
  {
   "cell_type": "code",
   "execution_count": 46,
   "metadata": {},
   "outputs": [
    {
     "name": "stdout",
     "output_type": "stream",
     "text": [
      "M       data\\titanic\\train.csv\n"
     ]
    }
   ],
   "source": [
    "!python -m dvc checkout "
   ]
  },
  {
   "cell_type": "markdown",
   "metadata": {},
   "source": [
    "## Experiment Tracking with MLflow "
   ]
  },
  {
   "cell_type": "code",
   "execution_count": 49,
   "metadata": {},
   "outputs": [
    {
     "name": "stdout",
     "output_type": "stream",
     "text": [
      "Requirement already satisfied: mlflow in c:\\users\\ahmed mohiuddin shah\\documents\\machine learning labs\\.conda\\lib\\site-packages (2.18.0)\n",
      "Requirement already satisfied: mlflow-skinny==2.18.0 in c:\\users\\ahmed mohiuddin shah\\documents\\machine learning labs\\.conda\\lib\\site-packages (from mlflow) (2.18.0)\n",
      "Requirement already satisfied: Flask<4 in c:\\users\\ahmed mohiuddin shah\\documents\\machine learning labs\\.conda\\lib\\site-packages (from mlflow) (3.1.0)\n",
      "Requirement already satisfied: alembic!=1.10.0,<2 in c:\\users\\ahmed mohiuddin shah\\documents\\machine learning labs\\.conda\\lib\\site-packages (from mlflow) (1.14.0)\n",
      "Requirement already satisfied: docker<8,>=4.0.0 in c:\\users\\ahmed mohiuddin shah\\documents\\machine learning labs\\.conda\\lib\\site-packages (from mlflow) (7.1.0)\n",
      "Requirement already satisfied: graphene<4 in c:\\users\\ahmed mohiuddin shah\\documents\\machine learning labs\\.conda\\lib\\site-packages (from mlflow) (3.4.3)\n",
      "Requirement already satisfied: markdown<4,>=3.3 in c:\\users\\ahmed mohiuddin shah\\documents\\machine learning labs\\.conda\\lib\\site-packages (from mlflow) (3.7)\n",
      "Requirement already satisfied: matplotlib<4 in c:\\users\\ahmed mohiuddin shah\\documents\\machine learning labs\\.conda\\lib\\site-packages (from mlflow) (3.9.2)\n",
      "Requirement already satisfied: numpy<3 in c:\\users\\ahmed mohiuddin shah\\documents\\machine learning labs\\.conda\\lib\\site-packages (from mlflow) (2.0.2)\n",
      "Requirement already satisfied: pandas<3 in c:\\users\\ahmed mohiuddin shah\\documents\\machine learning labs\\.conda\\lib\\site-packages (from mlflow) (2.2.3)\n",
      "Requirement already satisfied: pyarrow<19,>=4.0.0 in c:\\users\\ahmed mohiuddin shah\\documents\\machine learning labs\\.conda\\lib\\site-packages (from mlflow) (18.1.0)\n",
      "Requirement already satisfied: scikit-learn<2 in c:\\users\\ahmed mohiuddin shah\\documents\\machine learning labs\\.conda\\lib\\site-packages (from mlflow) (1.5.2)\n",
      "Requirement already satisfied: scipy<2 in c:\\users\\ahmed mohiuddin shah\\documents\\machine learning labs\\.conda\\lib\\site-packages (from mlflow) (1.14.1)\n",
      "Requirement already satisfied: sqlalchemy<3,>=1.4.0 in c:\\users\\ahmed mohiuddin shah\\documents\\machine learning labs\\.conda\\lib\\site-packages (from mlflow) (2.0.36)\n",
      "Requirement already satisfied: Jinja2<4,>=3.0 in c:\\users\\ahmed mohiuddin shah\\documents\\machine learning labs\\.conda\\lib\\site-packages (from mlflow) (3.1.4)\n",
      "Requirement already satisfied: waitress<4 in c:\\users\\ahmed mohiuddin shah\\documents\\machine learning labs\\.conda\\lib\\site-packages (from mlflow) (3.0.2)\n",
      "Requirement already satisfied: cachetools<6,>=5.0.0 in c:\\users\\ahmed mohiuddin shah\\documents\\machine learning labs\\.conda\\lib\\site-packages (from mlflow-skinny==2.18.0->mlflow) (5.5.0)\n",
      "Requirement already satisfied: click<9,>=7.0 in c:\\users\\ahmed mohiuddin shah\\documents\\machine learning labs\\.conda\\lib\\site-packages (from mlflow-skinny==2.18.0->mlflow) (8.1.7)\n",
      "Requirement already satisfied: cloudpickle<4 in c:\\users\\ahmed mohiuddin shah\\documents\\machine learning labs\\.conda\\lib\\site-packages (from mlflow-skinny==2.18.0->mlflow) (3.1.0)\n",
      "Requirement already satisfied: databricks-sdk<1,>=0.20.0 in c:\\users\\ahmed mohiuddin shah\\documents\\machine learning labs\\.conda\\lib\\site-packages (from mlflow-skinny==2.18.0->mlflow) (0.38.0)\n",
      "Requirement already satisfied: gitpython<4,>=3.1.9 in c:\\users\\ahmed mohiuddin shah\\documents\\machine learning labs\\.conda\\lib\\site-packages (from mlflow-skinny==2.18.0->mlflow) (3.1.43)\n",
      "Requirement already satisfied: importlib-metadata!=4.7.0,<9,>=3.7.0 in c:\\users\\ahmed mohiuddin shah\\documents\\machine learning labs\\.conda\\lib\\site-packages (from mlflow-skinny==2.18.0->mlflow) (8.5.0)\n",
      "Requirement already satisfied: opentelemetry-api<3,>=1.9.0 in c:\\users\\ahmed mohiuddin shah\\documents\\machine learning labs\\.conda\\lib\\site-packages (from mlflow-skinny==2.18.0->mlflow) (1.28.2)\n",
      "Requirement already satisfied: opentelemetry-sdk<3,>=1.9.0 in c:\\users\\ahmed mohiuddin shah\\documents\\machine learning labs\\.conda\\lib\\site-packages (from mlflow-skinny==2.18.0->mlflow) (1.28.2)\n",
      "Requirement already satisfied: packaging<25 in c:\\users\\ahmed mohiuddin shah\\documents\\machine learning labs\\.conda\\lib\\site-packages (from mlflow-skinny==2.18.0->mlflow) (24.1)\n",
      "Requirement already satisfied: protobuf<6,>=3.12.0 in c:\\users\\ahmed mohiuddin shah\\documents\\machine learning labs\\.conda\\lib\\site-packages (from mlflow-skinny==2.18.0->mlflow) (5.29.1)\n",
      "Requirement already satisfied: pyyaml<7,>=5.1 in c:\\users\\ahmed mohiuddin shah\\documents\\machine learning labs\\.conda\\lib\\site-packages (from mlflow-skinny==2.18.0->mlflow) (6.0.2)\n",
      "Requirement already satisfied: requests<3,>=2.17.3 in c:\\users\\ahmed mohiuddin shah\\documents\\machine learning labs\\.conda\\lib\\site-packages (from mlflow-skinny==2.18.0->mlflow) (2.32.3)\n",
      "Requirement already satisfied: sqlparse<1,>=0.4.0 in c:\\users\\ahmed mohiuddin shah\\documents\\machine learning labs\\.conda\\lib\\site-packages (from mlflow-skinny==2.18.0->mlflow) (0.5.2)\n",
      "Requirement already satisfied: Mako in c:\\users\\ahmed mohiuddin shah\\documents\\machine learning labs\\.conda\\lib\\site-packages (from alembic!=1.10.0,<2->mlflow) (1.3.8)\n",
      "Requirement already satisfied: typing-extensions>=4 in c:\\users\\ahmed mohiuddin shah\\documents\\machine learning labs\\.conda\\lib\\site-packages (from alembic!=1.10.0,<2->mlflow) (4.12.2)\n",
      "Requirement already satisfied: pywin32>=304 in c:\\users\\ahmed mohiuddin shah\\documents\\machine learning labs\\.conda\\lib\\site-packages (from docker<8,>=4.0.0->mlflow) (305.1)\n",
      "Requirement already satisfied: urllib3>=1.26.0 in c:\\users\\ahmed mohiuddin shah\\documents\\machine learning labs\\.conda\\lib\\site-packages (from docker<8,>=4.0.0->mlflow) (2.2.3)\n",
      "Requirement already satisfied: Werkzeug>=3.1 in c:\\users\\ahmed mohiuddin shah\\documents\\machine learning labs\\.conda\\lib\\site-packages (from Flask<4->mlflow) (3.1.3)\n",
      "Requirement already satisfied: itsdangerous>=2.2 in c:\\users\\ahmed mohiuddin shah\\documents\\machine learning labs\\.conda\\lib\\site-packages (from Flask<4->mlflow) (2.2.0)\n",
      "Requirement already satisfied: blinker>=1.9 in c:\\users\\ahmed mohiuddin shah\\documents\\machine learning labs\\.conda\\lib\\site-packages (from Flask<4->mlflow) (1.9.0)\n",
      "Requirement already satisfied: graphql-core<3.3,>=3.1 in c:\\users\\ahmed mohiuddin shah\\documents\\machine learning labs\\.conda\\lib\\site-packages (from graphene<4->mlflow) (3.2.5)\n",
      "Requirement already satisfied: graphql-relay<3.3,>=3.1 in c:\\users\\ahmed mohiuddin shah\\documents\\machine learning labs\\.conda\\lib\\site-packages (from graphene<4->mlflow) (3.2.0)\n",
      "Requirement already satisfied: python-dateutil<3,>=2.7.0 in c:\\users\\ahmed mohiuddin shah\\documents\\machine learning labs\\.conda\\lib\\site-packages (from graphene<4->mlflow) (2.9.0.post0)\n",
      "Requirement already satisfied: MarkupSafe>=2.0 in c:\\users\\ahmed mohiuddin shah\\documents\\machine learning labs\\.conda\\lib\\site-packages (from Jinja2<4,>=3.0->mlflow) (3.0.2)\n",
      "Requirement already satisfied: contourpy>=1.0.1 in c:\\users\\ahmed mohiuddin shah\\documents\\machine learning labs\\.conda\\lib\\site-packages (from matplotlib<4->mlflow) (1.3.0)\n",
      "Requirement already satisfied: cycler>=0.10 in c:\\users\\ahmed mohiuddin shah\\documents\\machine learning labs\\.conda\\lib\\site-packages (from matplotlib<4->mlflow) (0.12.1)\n",
      "Requirement already satisfied: fonttools>=4.22.0 in c:\\users\\ahmed mohiuddin shah\\documents\\machine learning labs\\.conda\\lib\\site-packages (from matplotlib<4->mlflow) (4.54.0)\n",
      "Requirement already satisfied: kiwisolver>=1.3.1 in c:\\users\\ahmed mohiuddin shah\\documents\\machine learning labs\\.conda\\lib\\site-packages (from matplotlib<4->mlflow) (1.4.7)\n",
      "Requirement already satisfied: pillow>=8 in c:\\users\\ahmed mohiuddin shah\\documents\\machine learning labs\\.conda\\lib\\site-packages (from matplotlib<4->mlflow) (10.4.0)\n",
      "Requirement already satisfied: pyparsing>=2.3.1 in c:\\users\\ahmed mohiuddin shah\\documents\\machine learning labs\\.conda\\lib\\site-packages (from matplotlib<4->mlflow) (3.1.4)\n",
      "Requirement already satisfied: pytz>=2020.1 in c:\\users\\ahmed mohiuddin shah\\documents\\machine learning labs\\.conda\\lib\\site-packages (from pandas<3->mlflow) (2024.2)\n",
      "Requirement already satisfied: tzdata>=2022.7 in c:\\users\\ahmed mohiuddin shah\\documents\\machine learning labs\\.conda\\lib\\site-packages (from pandas<3->mlflow) (2024.2)\n",
      "Requirement already satisfied: joblib>=1.2.0 in c:\\users\\ahmed mohiuddin shah\\documents\\machine learning labs\\.conda\\lib\\site-packages (from scikit-learn<2->mlflow) (1.4.2)\n",
      "Requirement already satisfied: threadpoolctl>=3.1.0 in c:\\users\\ahmed mohiuddin shah\\documents\\machine learning labs\\.conda\\lib\\site-packages (from scikit-learn<2->mlflow) (3.5.0)\n",
      "Requirement already satisfied: greenlet!=0.4.17 in c:\\users\\ahmed mohiuddin shah\\documents\\machine learning labs\\.conda\\lib\\site-packages (from sqlalchemy<3,>=1.4.0->mlflow) (3.1.1)\n",
      "Requirement already satisfied: colorama in c:\\users\\ahmed mohiuddin shah\\documents\\machine learning labs\\.conda\\lib\\site-packages (from click<9,>=7.0->mlflow-skinny==2.18.0->mlflow) (0.4.6)\n",
      "Requirement already satisfied: google-auth~=2.0 in c:\\users\\ahmed mohiuddin shah\\documents\\machine learning labs\\.conda\\lib\\site-packages (from databricks-sdk<1,>=0.20.0->mlflow-skinny==2.18.0->mlflow) (2.36.0)\n",
      "Requirement already satisfied: gitdb<5,>=4.0.1 in c:\\users\\ahmed mohiuddin shah\\documents\\machine learning labs\\.conda\\lib\\site-packages (from gitpython<4,>=3.1.9->mlflow-skinny==2.18.0->mlflow) (4.0.11)\n",
      "Requirement already satisfied: zipp>=3.20 in c:\\users\\ahmed mohiuddin shah\\documents\\machine learning labs\\.conda\\lib\\site-packages (from importlib-metadata!=4.7.0,<9,>=3.7.0->mlflow-skinny==2.18.0->mlflow) (3.21.0)\n",
      "Requirement already satisfied: deprecated>=1.2.6 in c:\\users\\ahmed mohiuddin shah\\documents\\machine learning labs\\.conda\\lib\\site-packages (from opentelemetry-api<3,>=1.9.0->mlflow-skinny==2.18.0->mlflow) (1.2.15)\n",
      "Requirement already satisfied: opentelemetry-semantic-conventions==0.49b2 in c:\\users\\ahmed mohiuddin shah\\documents\\machine learning labs\\.conda\\lib\\site-packages (from opentelemetry-sdk<3,>=1.9.0->mlflow-skinny==2.18.0->mlflow) (0.49b2)\n",
      "Requirement already satisfied: six>=1.5 in c:\\users\\ahmed mohiuddin shah\\documents\\machine learning labs\\.conda\\lib\\site-packages (from python-dateutil<3,>=2.7.0->graphene<4->mlflow) (1.16.0)\n",
      "Requirement already satisfied: charset-normalizer<4,>=2 in c:\\users\\ahmed mohiuddin shah\\documents\\machine learning labs\\.conda\\lib\\site-packages (from requests<3,>=2.17.3->mlflow-skinny==2.18.0->mlflow) (3.3.2)\n",
      "Requirement already satisfied: idna<4,>=2.5 in c:\\users\\ahmed mohiuddin shah\\documents\\machine learning labs\\.conda\\lib\\site-packages (from requests<3,>=2.17.3->mlflow-skinny==2.18.0->mlflow) (3.10)\n",
      "Requirement already satisfied: certifi>=2017.4.17 in c:\\users\\ahmed mohiuddin shah\\documents\\machine learning labs\\.conda\\lib\\site-packages (from requests<3,>=2.17.3->mlflow-skinny==2.18.0->mlflow) (2024.8.30)\n",
      "Requirement already satisfied: wrapt<2,>=1.10 in c:\\users\\ahmed mohiuddin shah\\documents\\machine learning labs\\.conda\\lib\\site-packages (from deprecated>=1.2.6->opentelemetry-api<3,>=1.9.0->mlflow-skinny==2.18.0->mlflow) (1.17.0)\n",
      "Requirement already satisfied: smmap<6,>=3.0.1 in c:\\users\\ahmed mohiuddin shah\\documents\\machine learning labs\\.conda\\lib\\site-packages (from gitdb<5,>=4.0.1->gitpython<4,>=3.1.9->mlflow-skinny==2.18.0->mlflow) (5.0.1)\n",
      "Requirement already satisfied: pyasn1-modules>=0.2.1 in c:\\users\\ahmed mohiuddin shah\\documents\\machine learning labs\\.conda\\lib\\site-packages (from google-auth~=2.0->databricks-sdk<1,>=0.20.0->mlflow-skinny==2.18.0->mlflow) (0.4.1)\n",
      "Requirement already satisfied: rsa<5,>=3.1.4 in c:\\users\\ahmed mohiuddin shah\\documents\\machine learning labs\\.conda\\lib\\site-packages (from google-auth~=2.0->databricks-sdk<1,>=0.20.0->mlflow-skinny==2.18.0->mlflow) (4.9)\n",
      "Requirement already satisfied: pyasn1<0.7.0,>=0.4.6 in c:\\users\\ahmed mohiuddin shah\\documents\\machine learning labs\\.conda\\lib\\site-packages (from pyasn1-modules>=0.2.1->google-auth~=2.0->databricks-sdk<1,>=0.20.0->mlflow-skinny==2.18.0->mlflow) (0.6.1)\n",
      "Note: you may need to restart the kernel to use updated packages.\n"
     ]
    }
   ],
   "source": [
    "%pip install mlflow "
   ]
  },
  {
   "cell_type": "markdown",
   "metadata": {},
   "source": [
    "### Running Server in Terminal"
   ]
  },
  {
   "cell_type": "markdown",
   "metadata": {},
   "source": [
    "![mlfow-ui](screenshots/mlflow-ui.png \"mlflow-ui\")"
   ]
  },
  {
   "cell_type": "code",
   "execution_count": 51,
   "metadata": {},
   "outputs": [
    {
     "name": "stdout",
     "output_type": "stream",
     "text": [
      "^C\n"
     ]
    }
   ],
   "source": [
    "!python -m mlflow ui "
   ]
  },
  {
   "cell_type": "markdown",
   "metadata": {},
   "source": [
    "![ui-mlfow](screenshots/ui-mlflow.png \"ui-mlflow\")"
   ]
  },
  {
   "cell_type": "markdown",
   "metadata": {},
   "source": [
    "## Creating and Logging an Experiment "
   ]
  },
  {
   "cell_type": "markdown",
   "metadata": {},
   "source": [
    "### import libraries"
   ]
  },
  {
   "cell_type": "code",
   "execution_count": 55,
   "metadata": {},
   "outputs": [],
   "source": [
    "import mlflow\n",
    "mlflow.set_tracking_uri(\"http://localhost:5000\")\n",
    "import mlflow.sklearn\n",
    "import numpy as np\n",
    "from sklearn.linear_model import LinearRegression\n",
    "from sklearn.model_selection import train_test_split\n",
    "from sklearn.metrics import mean_squared_error"
   ]
  },
  {
   "cell_type": "markdown",
   "metadata": {},
   "source": [
    "### Simulate a dataset"
   ]
  },
  {
   "cell_type": "code",
   "execution_count": 53,
   "metadata": {},
   "outputs": [],
   "source": [
    "X = np.random.rand(100, 1) * 10  # Random data\n",
    "y = 2.5 * X.flatten() + np.random.randn(100) * 2  # Linear relationship with noise\n",
    "X_train, X_test, y_train, y_test = train_test_split(\n",
    "    X, y, test_size=0.2, random_state=42\n",
    ")"
   ]
  },
  {
   "cell_type": "markdown",
   "metadata": {},
   "source": [
    "### Train and track the model"
   ]
  },
  {
   "cell_type": "markdown",
   "metadata": {},
   "source": [
    "![ran-model-mlflow](screenshots/ran-model-mlflow.png \"ran-model-mlflow\")"
   ]
  },
  {
   "cell_type": "code",
   "execution_count": 56,
   "metadata": {},
   "outputs": [
    {
     "name": "stderr",
     "output_type": "stream",
     "text": [
      "c:\\Users\\Ahmed Mohiuddin Shah\\Documents\\Machine Learning Labs\\.conda\\lib\\site-packages\\sklearn\\metrics\\_regression.py:492: FutureWarning: 'squared' is deprecated in version 1.4 and will be removed in 1.6. To calculate the root mean squared error, use the function'root_mean_squared_error'.\n",
      "  warnings.warn(\n",
      "2024/12/14 18:17:19 WARNING mlflow.models.model: Model logged without a signature and input example. Please set `input_example` parameter when logging the model to auto infer the model signature.\n"
     ]
    },
    {
     "name": "stdout",
     "output_type": "stream",
     "text": [
      "🏃 View run bright-perch-465 at: http://localhost:5000/#/experiments/0/runs/0b247eed85954f0580b7f823ad6c0b90\n",
      "🧪 View experiment at: http://localhost:5000/#/experiments/0\n"
     ]
    }
   ],
   "source": [
    "with mlflow.start_run(): \n",
    "    # Define and train the model \n",
    "    model = LinearRegression() \n",
    "    model.fit(X_train, y_train) \n",
    "    # Log parameters \n",
    "    mlflow.log_param(\"fit_intercept\", model.fit_intercept) \n",
    "    # Predict and log metrics \n",
    "    y_pred = model.predict(X_test) \n",
    "    rmse = mean_squared_error(y_test, y_pred, squared=False) \n",
    "    mlflow.log_metric(\"rmse\", rmse) \n",
    "    # Log the model \n",
    "    mlflow.sklearn.log_model(model, \"linear_model\") "
   ]
  },
  {
   "cell_type": "code",
   "execution_count": 57,
   "metadata": {},
   "outputs": [
    {
     "name": "stderr",
     "output_type": "stream",
     "text": [
      "c:\\Users\\Ahmed Mohiuddin Shah\\Documents\\Machine Learning Labs\\.conda\\lib\\site-packages\\sklearn\\metrics\\_regression.py:492: FutureWarning: 'squared' is deprecated in version 1.4 and will be removed in 1.6. To calculate the root mean squared error, use the function'root_mean_squared_error'.\n",
      "  warnings.warn(\n",
      "2024/12/14 18:20:00 WARNING mlflow.models.model: Model logged without a signature and input example. Please set `input_example` parameter when logging the model to auto infer the model signature.\n"
     ]
    },
    {
     "name": "stdout",
     "output_type": "stream",
     "text": [
      "🏃 View run useful-midge-666 at: http://localhost:5000/#/experiments/0/runs/4bbf64c775a54695a912094c526ac429\n",
      "🧪 View experiment at: http://localhost:5000/#/experiments/0\n"
     ]
    }
   ],
   "source": [
    "with mlflow.start_run(): \n",
    "    model = LinearRegression(fit_intercept=False) \n",
    "    model.fit(X_train, y_train) \n",
    "    y_pred = model.predict(X_test) \n",
    "    rmse = mean_squared_error(y_test, y_pred, squared=False) \n",
    "    mlflow.log_param(\"fit_intercept\", model.fit_intercept) \n",
    "    mlflow.log_metric(\"rmse\", rmse) \n",
    "    mlflow.sklearn.log_model(model, \"linear_model_no_intercept\") "
   ]
  },
  {
   "cell_type": "markdown",
   "metadata": {},
   "source": [
    "![metrics-mlflow](screenshots/metrics-mlflow.png \"mlflow-ui\")"
   ]
  },
  {
   "cell_type": "markdown",
   "metadata": {},
   "source": [
    "## Branching for Experiments"
   ]
  },
  {
   "cell_type": "markdown",
   "metadata": {},
   "source": [
    "Some test changes"
   ]
  },
  {
   "cell_type": "code",
   "execution_count": null,
   "metadata": {},
   "outputs": [],
   "source": [
    "!git branch experiment-feature "
   ]
  },
  {
   "cell_type": "code",
   "execution_count": null,
   "metadata": {},
   "outputs": [],
   "source": [
    "!git checkout experiment-feature "
   ]
  },
  {
   "cell_type": "markdown",
   "metadata": {},
   "source": []
  }
 ],
 "metadata": {
  "kernelspec": {
   "display_name": "Python 3",
   "language": "python",
   "name": "python3"
  },
  "language_info": {
   "codemirror_mode": {
    "name": "ipython",
    "version": 3
   },
   "file_extension": ".py",
   "mimetype": "text/x-python",
   "name": "python",
   "nbconvert_exporter": "python",
   "pygments_lexer": "ipython3",
   "version": "3.10.14"
  }
 },
 "nbformat": 4,
 "nbformat_minor": 2
}
